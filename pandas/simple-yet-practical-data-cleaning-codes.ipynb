{
 "cells": [
  {
   "cell_type": "markdown",
   "metadata": {},
   "source": [
    "# 涵盖8大场景的数据清洗代码\n",
    "\n",
    "这些数据清洗代码，一共涵盖8个场景，分别是：\n",
    "删除多列、更改数据类型、将分类变量转换为数字变量、检查缺失数据、删除列中的字符串、删除列中的空格、用字符串连接两列（带条件）、转换时间戳（从字符串到日期时间格式）"
   ]
  },
  {
   "cell_type": "markdown",
   "metadata": {},
   "source": [
    "## 删除多列\n",
    "在进行数据分析时，并非所有的列都有用，用df.drop可以方便地删除你指定的列。"
   ]
  },
  {
   "cell_type": "code",
   "execution_count": 2,
   "metadata": {},
   "outputs": [],
   "source": [
    "def drop_multiple_col(col_names_list, df):\n",
    "    '''\n",
    "    AIM    -> Drop multiple columns based on their column names \n",
    "    INPUT  -> List of column names, df\n",
    "    OUTPUT -> updated df with dropped columns \n",
    "    '''\n",
    "    \n",
    "    df.drop(col_names_list, axis=1, inplace=True)\n",
    "    return df"
   ]
  },
  {
   "cell_type": "markdown",
   "metadata": {},
   "source": [
    "## 转换数据类型\n",
    "\n",
    "当数据集变大时，需要转换数据类型来节省内存。"
   ]
  },
  {
   "cell_type": "code",
   "execution_count": 3,
   "metadata": {},
   "outputs": [],
   "source": [
    "def change_dtypes(col_int, col_float, df): \n",
    "    '''   \n",
    "    AIM    -> Changing dtypes to save memory\n",
    "    INPUT  -> List of column names (int, float), df\n",
    "    OUTPUT -> updated df with smaller memory  \n",
    "    '''\n",
    "    \n",
    "    df[col_int] = df[col_int].astype( int32 )\n",
    "    df[col_float] = df[col_float].astype( float32 )"
   ]
  },
  {
   "cell_type": "markdown",
   "metadata": {},
   "source": [
    "## 将分类变量转换为数值变量\n",
    "\n",
    "一些机器学习模型要求变量采用数值格式。这需要先将分类变量转换为数值变量。同时，你也可以保留分类变量，以便进行数据可视化。"
   ]
  },
  {
   "cell_type": "code",
   "execution_count": 4,
   "metadata": {},
   "outputs": [],
   "source": [
    "def convert_cat2num(df,num_encode):\n",
    "    '''Convert categorical variable to numerical variable\n",
    "    num_encode = { col_1  : { YES :1,  NO :0},\n",
    "                   col_2   : { WON :1,  LOSE :0,  DRAW :0}}  \n",
    "    '''\n",
    "    df.replace(num_encode, inplace=True)  "
   ]
  },
  {
   "cell_type": "markdown",
   "metadata": {},
   "source": [
    "## 检查缺失数据\n",
    "\n",
    "如果你要检查每列缺失数据的数量，使用下列代码是最快的方法。可以让你更好地了解哪些列缺失的数据更多，从而确定怎么进行下一步的数据清洗和分析操作。"
   ]
  },
  {
   "cell_type": "code",
   "execution_count": 5,
   "metadata": {},
   "outputs": [],
   "source": [
    "def check_missing_data(df):\n",
    "    # check for any missing data in the df (display in descending order)\n",
    "    return df.isnull().sum().sort_values(ascending=False)"
   ]
  },
  {
   "cell_type": "markdown",
   "metadata": {},
   "source": [
    "## 删除列中的字符串\n",
    "\n",
    "有时候，会有新的字符或者其他奇怪的符号出现在字符串列中，这可以使用df[‘col_1’].replace很简单地把它们处理掉。"
   ]
  },
  {
   "cell_type": "code",
   "execution_count": 17,
   "metadata": {},
   "outputs": [],
   "source": [
    "def remove_col_str(df):\n",
    "    # remove a portion of string in a dataframe column - col_1\n",
    "    df[ col_1 ].replace('','' , regex=True, inplace=True)\n",
    "\n",
    "    # remove all the characters after &# (including &#) for column - col_1\n",
    "    df[ col_1 ].replace('&#.*','', regex=True, inplace=True)"
   ]
  },
  {
   "cell_type": "markdown",
   "metadata": {},
   "source": [
    "## 删除列中的空格\n",
    "\n",
    "数据混乱的时候，什么情况都有可能发生。字符串开头经常会有一些空格。在删除列中字符串开头的空格时，下面的代码非常有用。"
   ]
  },
  {
   "cell_type": "code",
   "execution_count": 13,
   "metadata": {},
   "outputs": [],
   "source": [
    "def remove_col_white_space(df,col_names_list):\n",
    "    # remove white space at the beginning of string \n",
    "    df[col_names_list] = df[col_names_list].str.lstrip()"
   ]
  },
  {
   "cell_type": "markdown",
   "metadata": {},
   "source": [
    "## 字符串连接两列（带条件）\n",
    "\n",
    "当你想要有条件地用字符串将两列连接在一起时，这段代码很有帮助。比如，你可以在第一列结尾处设定某些字母，然后用它们与第二列连接在一起。\n",
    "根据需要，结尾处的字母也可以在连接完成后删除。"
   ]
  },
  {
   "cell_type": "code",
   "execution_count": 12,
   "metadata": {},
   "outputs": [],
   "source": [
    "def concat_col_str_condition(df):\n",
    "    # concat 2 columns with strings if the last 3 letters of the first column are  pil\n",
    "    mask = df[ col_1 ].str.endswith( 'pil' , na=False)\n",
    "    col_new = df[mask][ col_1 ] + df[mask][ col_2 ]\n",
    "    col_new.replace( 'pil' ,' ', regex=True, inplace=True)  # replace the  pil  with emtpy space"
   ]
  },
  {
   "cell_type": "markdown",
   "metadata": {},
   "source": [
    "## 转换时间戳（从字符串到日期时间格式）\n",
    "\n",
    "在处理时间序列数据时，我们很可能会遇到字符串格式的时间戳列。\n",
    "这意味着要将字符串格式转换为日期时间格式(或者其他根据我们的需求指定的格式) ，以便对数据进行有意义的分析。"
   ]
  },
  {
   "cell_type": "code",
   "execution_count": 8,
   "metadata": {},
   "outputs": [],
   "source": [
    "def convert_str_datetime(df): \n",
    "    ''' \n",
    "    AIM    -> Convert datetime(String) to datetime(format we want)\n",
    "    INPUT  -> df\n",
    "    OUTPUT -> updated df with new datetime format \n",
    "    '''  \n",
    "    \n",
    "    df.insert(loc=2, column= timestamp , value=pd.to_datetime(df.transdate, format= '%Y-%m-%d %H:%M:%S.%f' )) "
   ]
  }
 ],
 "metadata": {
  "hide_input": false,
  "kernelspec": {
   "display_name": "Python 3",
   "language": "python",
   "name": "python3"
  },
  "language_info": {
   "codemirror_mode": {
    "name": "ipython",
    "version": 3
   },
   "file_extension": ".py",
   "mimetype": "text/x-python",
   "name": "python",
   "nbconvert_exporter": "python",
   "pygments_lexer": "ipython3",
   "version": "3.7.3"
  },
  "toc": {
   "base_numbering": 1,
   "nav_menu": {},
   "number_sections": true,
   "sideBar": true,
   "skip_h1_title": false,
   "title_cell": "Table of Contents",
   "title_sidebar": "Contents",
   "toc_cell": false,
   "toc_position": {},
   "toc_section_display": true,
   "toc_window_display": true
  },
  "varInspector": {
   "cols": {
    "lenName": 16,
    "lenType": 16,
    "lenVar": 40
   },
   "kernels_config": {
    "python": {
     "delete_cmd_postfix": "",
     "delete_cmd_prefix": "del ",
     "library": "var_list.py",
     "varRefreshCmd": "print(var_dic_list())"
    },
    "r": {
     "delete_cmd_postfix": ") ",
     "delete_cmd_prefix": "rm(",
     "library": "var_list.r",
     "varRefreshCmd": "cat(var_dic_list()) "
    }
   },
   "types_to_exclude": [
    "module",
    "function",
    "builtin_function_or_method",
    "instance",
    "_Feature"
   ],
   "window_display": false
  }
 },
 "nbformat": 4,
 "nbformat_minor": 2
}
