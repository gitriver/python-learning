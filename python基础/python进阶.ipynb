{
 "cells": [
  {
   "cell_type": "markdown",
   "metadata": {},
   "source": [
    "# *args 和 **kwargs使用"
   ]
  },
  {
   "cell_type": "code",
   "execution_count": 1,
   "metadata": {},
   "outputs": [
    {
     "name": "stdout",
     "output_type": "stream",
     "text": [
      "first normal arg: yasoob\n",
      "another arg through *argv: python\n",
      "another arg through *argv: eggs\n",
      "another arg through *argv: test\n"
     ]
    }
   ],
   "source": [
    "def test_var_args(f_arg, *argv): \n",
    "    print(\"first normal arg:\", f_arg) \n",
    "    for arg in argv: \n",
    "        print(\"another arg through *argv:\", arg) \n",
    "test_var_args('yasoob', 'python', 'eggs', 'test')"
   ]
  },
  {
   "cell_type": "code",
   "execution_count": 2,
   "metadata": {},
   "outputs": [
    {
     "name": "stdout",
     "output_type": "stream",
     "text": [
      "name == yasoob\n",
      "a == b\n"
     ]
    }
   ],
   "source": [
    "def greet_me(**kwargs): \n",
    "    for key, value in kwargs.items(): \n",
    "        print(\"{0} == {1}\".format(key, value))\n",
    "greet_me(name=\"yasoob\",a='b')"
   ]
  },
  {
   "cell_type": "code",
   "execution_count": 3,
   "metadata": {},
   "outputs": [],
   "source": [
    "def test_args_kwargs(arg1, arg2, arg3): \n",
    "    print(\"arg1:\", arg1) \n",
    "    print(\"arg2:\", arg2) \n",
    "    print(\"arg3:\", arg3)"
   ]
  },
  {
   "cell_type": "code",
   "execution_count": 4,
   "metadata": {},
   "outputs": [
    {
     "name": "stdout",
     "output_type": "stream",
     "text": [
      "arg1: two\n",
      "arg2: 3\n",
      "arg3: 5\n"
     ]
    }
   ],
   "source": [
    "test_args_kwargs(*(\"two\", 3, 5))"
   ]
  },
  {
   "cell_type": "code",
   "execution_count": 5,
   "metadata": {},
   "outputs": [
    {
     "name": "stdout",
     "output_type": "stream",
     "text": [
      "arg1: two\n",
      "arg2: 3\n",
      "arg3: 5\n"
     ]
    }
   ],
   "source": [
    "test_args_kwargs(*[\"two\", 3, 5])"
   ]
  },
  {
   "cell_type": "code",
   "execution_count": 6,
   "metadata": {},
   "outputs": [
    {
     "name": "stdout",
     "output_type": "stream",
     "text": [
      "arg1: 5\n",
      "arg2: two\n",
      "arg3: 3\n"
     ]
    }
   ],
   "source": [
    "test_args_kwargs(**{\"arg3\": 3, \"arg2\": \"two\", \"arg1\": 5})"
   ]
  },
  {
   "cell_type": "markdown",
   "metadata": {},
   "source": [
    "# 调试 Debugging\n",
    "> - https://docs.python.org/3/library/pdb.html\n",
    "> - 在命令⾏使⽤Python debugger运⾏⼀个脚本， 举个例⼦： $ python -m pdb my_script.py\n",
    "\n",
    "下面的脚本运⾏后，你会在运⾏时马上进⼊debugger模式。\n",
    "现在是时候了解下 debugger模式下的⼀些命令了。 \n",
    "命令列表：\n",
    "- c: 继续执⾏ \n",
    "- w: 显⽰当前正在执⾏的代码⾏的上下⽂信息 \n",
    "- a: 打印当前函数的参数列表 \n",
    "- s: 执⾏当前代码⾏，并停在第⼀个能停的地⽅（相当于单步进⼊） \n",
    "- n: 继续执⾏到当前函数的下⼀⾏，或者当前⾏直接返回（单步跳过） \n",
    "- q(uit) Quit from the debugger. The program being executed is aborted.\n",
    "- display [expression] Display the value of the expression if it changed, each time execution stops in the current frame.\n",
    "- j(ump) lineno Set the next line that will be executed. \n",
    "- h(elp) [command]\n",
    "\n",
    "**单步跳过（next）和单步进⼊（step）的区别**\n",
    "- **单步进⼊会进⼊当前⾏调⽤的函数内 部并停在⾥⾯**\n",
    "- **单步跳过会（⼏乎）全速执⾏完当前⾏调⽤的函数，并停在当前函数的 下⼀⾏**"
   ]
  },
  {
   "cell_type": "code",
   "execution_count": 7,
   "metadata": {
    "scrolled": true
   },
   "outputs": [
    {
     "name": "stdout",
     "output_type": "stream",
     "text": [
      "arg1: two\n",
      "arg2: 3\n",
      "> <ipython-input-7-de373a91321d>(10)test_args_kwargs()\n",
      "-> print(\"arg3:\", arg3)\n",
      "(Pdb) q\n"
     ]
    },
    {
     "ename": "BdbQuit",
     "evalue": "",
     "output_type": "error",
     "traceback": [
      "\u001b[0;31m---------------------------------------------------------------------------\u001b[0m",
      "\u001b[0;31mBdbQuit\u001b[0m                                   Traceback (most recent call last)",
      "\u001b[0;32m<ipython-input-7-de373a91321d>\u001b[0m in \u001b[0;36m<module>\u001b[0;34m\u001b[0m\n\u001b[1;32m      9\u001b[0m     \u001b[0mpdb\u001b[0m\u001b[0;34m.\u001b[0m\u001b[0mset_trace\u001b[0m\u001b[0;34m(\u001b[0m\u001b[0;34m)\u001b[0m\u001b[0;34m\u001b[0m\u001b[0;34m\u001b[0m\u001b[0m\n\u001b[1;32m     10\u001b[0m     \u001b[0mprint\u001b[0m\u001b[0;34m(\u001b[0m\u001b[0;34m\"arg3:\"\u001b[0m\u001b[0;34m,\u001b[0m \u001b[0marg3\u001b[0m\u001b[0;34m)\u001b[0m\u001b[0;34m\u001b[0m\u001b[0;34m\u001b[0m\u001b[0m\n\u001b[0;32m---> 11\u001b[0;31m \u001b[0mprint\u001b[0m\u001b[0;34m(\u001b[0m\u001b[0mtest_args_kwargs\u001b[0m\u001b[0;34m(\u001b[0m\u001b[0;34m\"two\"\u001b[0m\u001b[0;34m,\u001b[0m \u001b[0;36m3\u001b[0m\u001b[0;34m,\u001b[0m \u001b[0;36m5\u001b[0m\u001b[0;34m)\u001b[0m\u001b[0;34m)\u001b[0m\u001b[0;34m\u001b[0m\u001b[0;34m\u001b[0m\u001b[0m\n\u001b[0m",
      "\u001b[0;32m<ipython-input-7-de373a91321d>\u001b[0m in \u001b[0;36mtest_args_kwargs\u001b[0;34m(arg1, arg2, arg3)\u001b[0m\n\u001b[1;32m      8\u001b[0m     \u001b[0mprint\u001b[0m\u001b[0;34m(\u001b[0m\u001b[0;34m\"arg2:\"\u001b[0m\u001b[0;34m,\u001b[0m \u001b[0marg2\u001b[0m\u001b[0;34m)\u001b[0m\u001b[0;34m\u001b[0m\u001b[0;34m\u001b[0m\u001b[0m\n\u001b[1;32m      9\u001b[0m     \u001b[0mpdb\u001b[0m\u001b[0;34m.\u001b[0m\u001b[0mset_trace\u001b[0m\u001b[0;34m(\u001b[0m\u001b[0;34m)\u001b[0m\u001b[0;34m\u001b[0m\u001b[0;34m\u001b[0m\u001b[0m\n\u001b[0;32m---> 10\u001b[0;31m     \u001b[0mprint\u001b[0m\u001b[0;34m(\u001b[0m\u001b[0;34m\"arg3:\"\u001b[0m\u001b[0;34m,\u001b[0m \u001b[0marg3\u001b[0m\u001b[0;34m)\u001b[0m\u001b[0;34m\u001b[0m\u001b[0;34m\u001b[0m\u001b[0m\n\u001b[0m\u001b[1;32m     11\u001b[0m \u001b[0mprint\u001b[0m\u001b[0;34m(\u001b[0m\u001b[0mtest_args_kwargs\u001b[0m\u001b[0;34m(\u001b[0m\u001b[0;34m\"two\"\u001b[0m\u001b[0;34m,\u001b[0m \u001b[0;36m3\u001b[0m\u001b[0;34m,\u001b[0m \u001b[0;36m5\u001b[0m\u001b[0;34m)\u001b[0m\u001b[0;34m)\u001b[0m\u001b[0;34m\u001b[0m\u001b[0;34m\u001b[0m\u001b[0m\n",
      "\u001b[0;32m<ipython-input-7-de373a91321d>\u001b[0m in \u001b[0;36mtest_args_kwargs\u001b[0;34m(arg1, arg2, arg3)\u001b[0m\n\u001b[1;32m      8\u001b[0m     \u001b[0mprint\u001b[0m\u001b[0;34m(\u001b[0m\u001b[0;34m\"arg2:\"\u001b[0m\u001b[0;34m,\u001b[0m \u001b[0marg2\u001b[0m\u001b[0;34m)\u001b[0m\u001b[0;34m\u001b[0m\u001b[0;34m\u001b[0m\u001b[0m\n\u001b[1;32m      9\u001b[0m     \u001b[0mpdb\u001b[0m\u001b[0;34m.\u001b[0m\u001b[0mset_trace\u001b[0m\u001b[0;34m(\u001b[0m\u001b[0;34m)\u001b[0m\u001b[0;34m\u001b[0m\u001b[0;34m\u001b[0m\u001b[0m\n\u001b[0;32m---> 10\u001b[0;31m     \u001b[0mprint\u001b[0m\u001b[0;34m(\u001b[0m\u001b[0;34m\"arg3:\"\u001b[0m\u001b[0;34m,\u001b[0m \u001b[0marg3\u001b[0m\u001b[0;34m)\u001b[0m\u001b[0;34m\u001b[0m\u001b[0;34m\u001b[0m\u001b[0m\n\u001b[0m\u001b[1;32m     11\u001b[0m \u001b[0mprint\u001b[0m\u001b[0;34m(\u001b[0m\u001b[0mtest_args_kwargs\u001b[0m\u001b[0;34m(\u001b[0m\u001b[0;34m\"two\"\u001b[0m\u001b[0;34m,\u001b[0m \u001b[0;36m3\u001b[0m\u001b[0;34m,\u001b[0m \u001b[0;36m5\u001b[0m\u001b[0;34m)\u001b[0m\u001b[0;34m)\u001b[0m\u001b[0;34m\u001b[0m\u001b[0;34m\u001b[0m\u001b[0m\n",
      "\u001b[0;32m~/anaconda3/lib/python3.7/bdb.py\u001b[0m in \u001b[0;36mtrace_dispatch\u001b[0;34m(self, frame, event, arg)\u001b[0m\n\u001b[1;32m     86\u001b[0m             \u001b[0;32mreturn\u001b[0m \u001b[0;31m# None\u001b[0m\u001b[0;34m\u001b[0m\u001b[0;34m\u001b[0m\u001b[0m\n\u001b[1;32m     87\u001b[0m         \u001b[0;32mif\u001b[0m \u001b[0mevent\u001b[0m \u001b[0;34m==\u001b[0m \u001b[0;34m'line'\u001b[0m\u001b[0;34m:\u001b[0m\u001b[0;34m\u001b[0m\u001b[0;34m\u001b[0m\u001b[0m\n\u001b[0;32m---> 88\u001b[0;31m             \u001b[0;32mreturn\u001b[0m \u001b[0mself\u001b[0m\u001b[0;34m.\u001b[0m\u001b[0mdispatch_line\u001b[0m\u001b[0;34m(\u001b[0m\u001b[0mframe\u001b[0m\u001b[0;34m)\u001b[0m\u001b[0;34m\u001b[0m\u001b[0;34m\u001b[0m\u001b[0m\n\u001b[0m\u001b[1;32m     89\u001b[0m         \u001b[0;32mif\u001b[0m \u001b[0mevent\u001b[0m \u001b[0;34m==\u001b[0m \u001b[0;34m'call'\u001b[0m\u001b[0;34m:\u001b[0m\u001b[0;34m\u001b[0m\u001b[0;34m\u001b[0m\u001b[0m\n\u001b[1;32m     90\u001b[0m             \u001b[0;32mreturn\u001b[0m \u001b[0mself\u001b[0m\u001b[0;34m.\u001b[0m\u001b[0mdispatch_call\u001b[0m\u001b[0;34m(\u001b[0m\u001b[0mframe\u001b[0m\u001b[0;34m,\u001b[0m \u001b[0marg\u001b[0m\u001b[0;34m)\u001b[0m\u001b[0;34m\u001b[0m\u001b[0;34m\u001b[0m\u001b[0m\n",
      "\u001b[0;32m~/anaconda3/lib/python3.7/bdb.py\u001b[0m in \u001b[0;36mdispatch_line\u001b[0;34m(self, frame)\u001b[0m\n\u001b[1;32m    111\u001b[0m         \u001b[0;32mif\u001b[0m \u001b[0mself\u001b[0m\u001b[0;34m.\u001b[0m\u001b[0mstop_here\u001b[0m\u001b[0;34m(\u001b[0m\u001b[0mframe\u001b[0m\u001b[0;34m)\u001b[0m \u001b[0;32mor\u001b[0m \u001b[0mself\u001b[0m\u001b[0;34m.\u001b[0m\u001b[0mbreak_here\u001b[0m\u001b[0;34m(\u001b[0m\u001b[0mframe\u001b[0m\u001b[0;34m)\u001b[0m\u001b[0;34m:\u001b[0m\u001b[0;34m\u001b[0m\u001b[0;34m\u001b[0m\u001b[0m\n\u001b[1;32m    112\u001b[0m             \u001b[0mself\u001b[0m\u001b[0;34m.\u001b[0m\u001b[0muser_line\u001b[0m\u001b[0;34m(\u001b[0m\u001b[0mframe\u001b[0m\u001b[0;34m)\u001b[0m\u001b[0;34m\u001b[0m\u001b[0;34m\u001b[0m\u001b[0m\n\u001b[0;32m--> 113\u001b[0;31m             \u001b[0;32mif\u001b[0m \u001b[0mself\u001b[0m\u001b[0;34m.\u001b[0m\u001b[0mquitting\u001b[0m\u001b[0;34m:\u001b[0m \u001b[0;32mraise\u001b[0m \u001b[0mBdbQuit\u001b[0m\u001b[0;34m\u001b[0m\u001b[0;34m\u001b[0m\u001b[0m\n\u001b[0m\u001b[1;32m    114\u001b[0m         \u001b[0;32mreturn\u001b[0m \u001b[0mself\u001b[0m\u001b[0;34m.\u001b[0m\u001b[0mtrace_dispatch\u001b[0m\u001b[0;34m\u001b[0m\u001b[0;34m\u001b[0m\u001b[0m\n\u001b[1;32m    115\u001b[0m \u001b[0;34m\u001b[0m\u001b[0m\n",
      "\u001b[0;31mBdbQuit\u001b[0m: "
     ]
    }
   ],
   "source": [
    "import pdb \n",
    "def make_bread(): \n",
    "    pdb.set_trace() \n",
    "    return \"I don't have time\" \n",
    "\n",
    "def test_args_kwargs(arg1, arg2, arg3): \n",
    "    print(\"arg1:\", arg1) \n",
    "    print(\"arg2:\", arg2) \n",
    "    pdb.set_trace() \n",
    "    print(\"arg3:\", arg3)\n",
    "print(test_args_kwargs(\"two\", 3, 5))"
   ]
  },
  {
   "cell_type": "markdown",
   "metadata": {},
   "source": [
    "# Generator 生成器\n",
    "## 基本概念\n",
    "### 可迭代对象 Iterable\n",
    "\n",
    "Python中任意的对象，只要它定义了可以返回⼀个迭代器的`__iter__`⽅法，或者定义了 可以⽀持下标索引的`__getitem__`⽅法，那么它就是⼀个可迭代对象。简单说，可迭代对象就是能提供迭代器的任意对象。\n",
    "\n",
    "### 迭代器 iteration\n",
    "\n",
    "任意对象，只要定义了`next`(Python2) 或者`__next__`⽅法，它就是⼀个迭代器\n",
    "\n",
    "### 迭代\n",
    "⽤简单的话讲，它就是从某个地⽅（⽐如⼀个列表）取出⼀个元素的过程。当我们使⽤⼀ 个循环来遍历某个东西时，这个过程本⾝就叫迭代\n",
    "\n",
    "### ⽣成器(Generators) \n",
    "⽣成器也是⼀种迭代器，但是你**只能对其迭代⼀次**。这是因为它们并**没有把所有的值存在内存中，⽽是在运⾏时⽣成值**。你通过遍历来使⽤它们，要么⽤⼀个“for”循环，要么将它们传递给任意可以进⾏迭代的函数和结构。\n",
    "\n",
    "⼤多数时候⽣成器是以函数来实现的。然⽽， 它们并不返回⼀个值，⽽是yield(暂且译作“⽣出”)⼀个值\n",
    "\n",
    "\n",
    "**⽣成器最佳应⽤场景是**：\n",
    "你不想同⼀时间将所有计算出来的⼤ 量结果集分配到内存当中，特别是结果集⾥还包含循环"
   ]
  },
  {
   "cell_type": "code",
   "execution_count": 8,
   "metadata": {
    "scrolled": true
   },
   "outputs": [
    {
     "name": "stdout",
     "output_type": "stream",
     "text": [
      "0\n",
      "1\n",
      "2\n",
      "3\n",
      "4\n"
     ]
    }
   ],
   "source": [
    "def generator_function(): \n",
    "    for i in range(5): \n",
    "        yield i \n",
    "\n",
    "for item in generator_function(): \n",
    "    print(item)"
   ]
  },
  {
   "cell_type": "markdown",
   "metadata": {},
   "source": [
    "下⾯是⼀个计算斐波那契数列的⽣成器： # generator version "
   ]
  },
  {
   "cell_type": "code",
   "execution_count": 9,
   "metadata": {},
   "outputs": [
    {
     "name": "stdout",
     "output_type": "stream",
     "text": [
      "1\n",
      "1\n",
      "2\n",
      "3\n",
      "5\n"
     ]
    }
   ],
   "source": [
    "def fibon(n): \n",
    "    a = b = 1 \n",
    "    for i in range(n): \n",
    "        yield a \n",
    "        a, b = b, a + b \n",
    "for x in fibon(5): \n",
    "    print(x)"
   ]
  },
  {
   "cell_type": "markdown",
   "metadata": {},
   "source": [
    "string是一个可迭代对象 Iterable，但不是一个迭代器iteration"
   ]
  },
  {
   "cell_type": "code",
   "execution_count": 10,
   "metadata": {
    "scrolled": true
   },
   "outputs": [
    {
     "name": "stdout",
     "output_type": "stream",
     "text": [
      "Y\n",
      "a\n",
      "s\n",
      "o\n",
      "o\n",
      "b\n"
     ]
    }
   ],
   "source": [
    "my_string = \"Yasoob\" \n",
    "my_iter = iter(my_string) \n",
    "for c in my_iter:\n",
    "    print(c)"
   ]
  },
  {
   "cell_type": "markdown",
   "metadata": {},
   "source": [
    "# Map，Filter 和 Reduce\n",
    "\n",
    "**注意**：如果map和filter对你来说看起来并不优雅的话，那么你可以看看另外⼀章：列 表/字典/元组推导式。\n",
    "\n",
    "## Map\n",
    "Map会将⼀个函数映射到⼀个输⼊列表的所有元素上。\n",
    "\n",
    "这是它的规范： \n",
    "\n",
    "```python \n",
    "map(function_to_apply, list_of_inputs) \n",
    "```\n",
    "\n",
    "⼤多数时候，我们要把列表中所有元素⼀个个地传递给⼀个函数，并收集输出\n",
    "> - 在python2中map直接返回列表，但在python3中返回迭代器 # 因此为了兼容python3, 需要list转换⼀下\n",
    "> - ⼤多数时候，使⽤匿名函数(lambdas)来配合map,"
   ]
  },
  {
   "cell_type": "code",
   "execution_count": 11,
   "metadata": {},
   "outputs": [
    {
     "data": {
      "text/plain": [
       "[1, 4, 9, 16, 25]"
      ]
     },
     "execution_count": 11,
     "metadata": {},
     "output_type": "execute_result"
    }
   ],
   "source": [
    "items = [1, 2, 3, 4, 5]\n",
    "list(map(lambda x: x**2, items))"
   ]
  },
  {
   "cell_type": "code",
   "execution_count": 12,
   "metadata": {},
   "outputs": [
    {
     "data": {
      "text/plain": [
       "[1, 4, 9, 16, 25]"
      ]
     },
     "execution_count": 12,
     "metadata": {},
     "output_type": "execute_result"
    }
   ],
   "source": [
    "[x**2 for x in items]"
   ]
  },
  {
   "cell_type": "code",
   "execution_count": 13,
   "metadata": {},
   "outputs": [
    {
     "name": "stdout",
     "output_type": "stream",
     "text": [
      "[0, 0]\n",
      "[1, 2]\n",
      "[4, 4]\n",
      "[9, 6]\n",
      "[16, 8]\n"
     ]
    }
   ],
   "source": [
    "def multiply(x): \n",
    "    return (x*x) \n",
    "\n",
    "def add(x): \n",
    "    return (x+x) \n",
    "\n",
    "funcs = [multiply, add] \n",
    "\n",
    "for i in range(5): \n",
    "    value = map(lambda x: x(i), funcs) \n",
    "    print(list(value))"
   ]
  },
  {
   "cell_type": "markdown",
   "metadata": {},
   "source": [
    "## Filter \n",
    "filter过滤列表中的元素，并且返回⼀个由所有符合要求的元素所构成的列 表，\n",
    "\n",
    "符合要求即函数映射到该元素时返回值为True"
   ]
  },
  {
   "cell_type": "code",
   "execution_count": 14,
   "metadata": {},
   "outputs": [
    {
     "name": "stdout",
     "output_type": "stream",
     "text": [
      "[-5, -4, -3, -2, -1]\n"
     ]
    }
   ],
   "source": [
    "number_list = range(-5, 5) \n",
    "print(list(filter(lambda x: x < 0, number_list)))"
   ]
  },
  {
   "cell_type": "code",
   "execution_count": 15,
   "metadata": {},
   "outputs": [
    {
     "data": {
      "text/plain": [
       "[-5, -4, -3, -2, -1]"
      ]
     },
     "execution_count": 15,
     "metadata": {},
     "output_type": "execute_result"
    }
   ],
   "source": [
    "[x for x in number_list if x < 0]"
   ]
  },
  {
   "cell_type": "code",
   "execution_count": 16,
   "metadata": {},
   "outputs": [
    {
     "name": "stdout",
     "output_type": "stream",
     "text": [
      "-5\n",
      "-4\n",
      "-3\n",
      "-2\n",
      "-1\n"
     ]
    }
   ],
   "source": [
    "for i in (x for x in number_list if x < 0):\n",
    "    print(i)"
   ]
  },
  {
   "cell_type": "markdown",
   "metadata": {},
   "source": [
    "## Reduce\n",
    "当需要对⼀个列表进⾏⼀些计算并返回结果时，Reduce 是个⾮常有⽤的函数"
   ]
  },
  {
   "cell_type": "code",
   "execution_count": 17,
   "metadata": {},
   "outputs": [
    {
     "data": {
      "text/plain": [
       "24"
      ]
     },
     "execution_count": 17,
     "metadata": {},
     "output_type": "execute_result"
    }
   ],
   "source": [
    "from functools import reduce \n",
    "reduce( (lambda x, y: x * y), [1, 2, 3, 4] )"
   ]
  },
  {
   "cell_type": "markdown",
   "metadata": {},
   "source": [
    "# set(集合)数据结构"
   ]
  },
  {
   "cell_type": "code",
   "execution_count": 18,
   "metadata": {},
   "outputs": [
    {
     "name": "stdout",
     "output_type": "stream",
     "text": [
      "['b', 'n']\n"
     ]
    }
   ],
   "source": [
    "some_list = ['a', 'b', 'c', 'b', 'd', 'm', 'n', 'n'] \n",
    "duplicates = [] \n",
    "for value in some_list: \n",
    "    if some_list.count(value) > 1: \n",
    "        if value not in duplicates: \n",
    "            duplicates.append(value) \n",
    "print(duplicates)"
   ]
  },
  {
   "cell_type": "markdown",
   "metadata": {},
   "source": [
    "更简单更优雅的解决⽅案，那就是使⽤集合(sets)"
   ]
  },
  {
   "cell_type": "code",
   "execution_count": 19,
   "metadata": {},
   "outputs": [
    {
     "name": "stdout",
     "output_type": "stream",
     "text": [
      "{'n', 'b'}\n"
     ]
    }
   ],
   "source": [
    "duplicates = set([x for x in some_list if some_list.count(x) > 1]) \n",
    "print(duplicates)"
   ]
  },
  {
   "cell_type": "markdown",
   "metadata": {},
   "source": [
    "## 交集\n",
    "注意：valid可以是list,set类型"
   ]
  },
  {
   "cell_type": "code",
   "execution_count": 20,
   "metadata": {},
   "outputs": [
    {
     "name": "stdout",
     "output_type": "stream",
     "text": [
      "{'red'}\n"
     ]
    }
   ],
   "source": [
    "valid = ['yellow', 'red', 'blue', 'green', 'black'] \n",
    "input_set = set(['red', 'brown']) \n",
    "print(input_set.intersection(valid))"
   ]
  },
  {
   "cell_type": "markdown",
   "metadata": {},
   "source": [
    "## 差集"
   ]
  },
  {
   "cell_type": "code",
   "execution_count": 21,
   "metadata": {},
   "outputs": [
    {
     "name": "stdout",
     "output_type": "stream",
     "text": [
      "{'brown'}\n"
     ]
    }
   ],
   "source": [
    "valid = ['yellow', 'red', 'blue', 'green', 'black']\n",
    "input_set = set(['red', 'brown']) \n",
    "print(input_set.difference(valid))"
   ]
  },
  {
   "cell_type": "markdown",
   "metadata": {},
   "source": [
    "## ⽤符号来创建集合"
   ]
  },
  {
   "cell_type": "code",
   "execution_count": 22,
   "metadata": {},
   "outputs": [
    {
     "name": "stdout",
     "output_type": "stream",
     "text": [
      "<class 'set'>\n"
     ]
    }
   ],
   "source": [
    "a_set = {'red', 'blue', 'green'} \n",
    "print(type(a_set))"
   ]
  },
  {
   "cell_type": "markdown",
   "metadata": {},
   "source": [
    "# 三元运算符\n",
    "```python\n",
    "用法1：\n",
    "#如果条件为真，返回真 否则返回假 \n",
    "condition_is_true if condition else condition_is_false\n",
    "\n",
    "用法2： 最好尽量避免使⽤元组条件表达式\n",
    "#(返回假，返回真)[真或假] \n",
    "#之所以能正常⼯作，是因为在Python中，True等于1，⽽False等于0，这就相当于在元组 中使⽤0和1来选取数据\n",
    "(if_test_is_false, if_test_is_true)[test]\n",
    "```"
   ]
  },
  {
   "cell_type": "code",
   "execution_count": 23,
   "metadata": {},
   "outputs": [
    {
     "data": {
      "text/plain": [
       "'fat'"
      ]
     },
     "execution_count": 23,
     "metadata": {},
     "output_type": "execute_result"
    }
   ],
   "source": [
    "is_fat = True \n",
    "state = \"fat\" if is_fat else \"not fat\"\n",
    "state"
   ]
  },
  {
   "cell_type": "code",
   "execution_count": 24,
   "metadata": {},
   "outputs": [
    {
     "name": "stdout",
     "output_type": "stream",
     "text": [
      "Ali is  fat\n"
     ]
    }
   ],
   "source": [
    "fat = True \n",
    "fitness = (\"skinny\", \"fat\")[fat] \n",
    "print(\"Ali is \", fitness)"
   ]
  },
  {
   "cell_type": "markdown",
   "metadata": {},
   "source": [
    "# 装饰器\n",
    "装饰器(Decorators)是Python的⼀个重要部分。简单地说：他们是修改其他函数的功能的函数。他们有助于让我们的代码更简短\n",
    "\n",
    "## ⼀切皆对象\n",
    "在python中，函数是一个对象，可以将⼀个函数赋值给⼀个变量"
   ]
  },
  {
   "cell_type": "markdown",
   "metadata": {},
   "source": [
    "## 在函数中定义函数\n",
    "可以创建嵌套的函数"
   ]
  },
  {
   "cell_type": "code",
   "execution_count": 25,
   "metadata": {},
   "outputs": [
    {
     "name": "stdout",
     "output_type": "stream",
     "text": [
      "now you are inside the hi() function\n",
      "now you are in the greet() function\n",
      "now you are in the welcome() function\n",
      "now you are back in the hi() function\n"
     ]
    }
   ],
   "source": [
    "def hi(name=\"yasoob\"): \n",
    "    print(\"now you are inside the hi() function\") \n",
    "    def greet(): \n",
    "        return \"now you are in the greet() function\" \n",
    "    def welcome(): \n",
    "        return \"now you are in the welcome() function\" \n",
    "    print(greet()) \n",
    "    print(welcome()) \n",
    "    print(\"now you are back in the hi() function\")\n",
    "    \n",
    "hi()"
   ]
  },
  {
   "cell_type": "markdown",
   "metadata": {},
   "source": [
    "## 从函数中返回函数"
   ]
  },
  {
   "cell_type": "code",
   "execution_count": 26,
   "metadata": {},
   "outputs": [
    {
     "name": "stdout",
     "output_type": "stream",
     "text": [
      "now you are in the greet() function\n"
     ]
    }
   ],
   "source": [
    "def hi(name=\"yasoob\"): \n",
    "    def greet(): \n",
    "        return \"now you are in the greet() function\" \n",
    "    def welcome(): \n",
    "        return \"now you are in the welcome() function\" \n",
    "    if name == \"yasoob\": \n",
    "        return greet \n",
    "    else:\n",
    "        return welcome\n",
    "    \n",
    "a = hi()\n",
    "print(a())"
   ]
  },
  {
   "cell_type": "code",
   "execution_count": 27,
   "metadata": {},
   "outputs": [
    {
     "name": "stdout",
     "output_type": "stream",
     "text": [
      "now you are in the welcome() function\n"
     ]
    }
   ],
   "source": [
    "a = hi(name = \"ali\")\n",
    "print(a())"
   ]
  },
  {
   "cell_type": "markdown",
   "metadata": {},
   "source": [
    "## 将函数作为参数传给另⼀个函数"
   ]
  },
  {
   "cell_type": "code",
   "execution_count": 28,
   "metadata": {},
   "outputs": [
    {
     "name": "stdout",
     "output_type": "stream",
     "text": [
      "I am doing some boring work before executing hi()\n",
      "hi yasoob!\n"
     ]
    }
   ],
   "source": [
    "def hi(): \n",
    "    return \"hi yasoob!\" \n",
    "def doSomethingBeforeHi(func): \n",
    "    print(\"I am doing some boring work before executing hi()\") \n",
    "    print(func()) \n",
    "doSomethingBeforeHi(hi)"
   ]
  },
  {
   "cell_type": "markdown",
   "metadata": {},
   "source": [
    "## 装饰器"
   ]
  },
  {
   "cell_type": "code",
   "execution_count": 29,
   "metadata": {},
   "outputs": [
    {
     "name": "stdout",
     "output_type": "stream",
     "text": [
      "I am the function which needs some decoration to remove my foul smell\n"
     ]
    }
   ],
   "source": [
    "def a_new_decorator(a_func): \n",
    "    def wrapTheFunction(): \n",
    "        print(\"I am doing some boring work before executing a_func()\")\n",
    "        a_func() \n",
    "        print(\"I am doing some boring work after executing a_func()\" )\n",
    "    return wrapTheFunction \n",
    "              \n",
    "def a_function_requiring_decoration(): \n",
    "    print(\"I am the function which needs some decoration to remove my foul smell\" )\n",
    "    \n",
    "\n",
    "a_function_requiring_decoration()"
   ]
  },
  {
   "cell_type": "code",
   "execution_count": 30,
   "metadata": {},
   "outputs": [
    {
     "name": "stdout",
     "output_type": "stream",
     "text": [
      "I am doing some boring work before executing a_func()\n",
      "I am the function which needs some decoration to remove my foul smell\n",
      "I am doing some boring work after executing a_func()\n"
     ]
    }
   ],
   "source": [
    "a_function_requiring_decoration = a_new_decorator(a_function_requiring_decoration)\n",
    "a_function_requiring_decoration()"
   ]
  },
  {
   "cell_type": "code",
   "execution_count": 31,
   "metadata": {},
   "outputs": [
    {
     "name": "stdout",
     "output_type": "stream",
     "text": [
      "I am doing some boring work before executing a_func()\n",
      "I am the function which needs some decoration to remove my foul smell\n",
      "I am doing some boring work after executing a_func()\n"
     ]
    }
   ],
   "source": [
    "@a_new_decorator \n",
    "def a_function_requiring_decoration(): \n",
    "    \"\"\"Hey you! Decorate me!\"\"\" \n",
    "    print(\"I am the function which needs some decoration to \" \"remove my foul smell\") \n",
    "    \n",
    "a_function_requiring_decoration()"
   ]
  },
  {
   "cell_type": "code",
   "execution_count": 32,
   "metadata": {},
   "outputs": [
    {
     "name": "stdout",
     "output_type": "stream",
     "text": [
      "wrapTheFunction\n"
     ]
    }
   ],
   "source": [
    "print(a_function_requiring_decoration.__name__)"
   ]
  },
  {
   "cell_type": "markdown",
   "metadata": {},
   "source": [
    "**解决函数的名字和注释⽂档(docstring)被装饰重写的问题**\n",
    "\n",
    "注意：@wraps接受⼀个函数来进⾏装饰，并加⼊了复制函数名称、注释⽂档、参数列表 等等的功能。这可以让我们在装饰器⾥⾯访问在装饰之前的函数的属性"
   ]
  },
  {
   "cell_type": "code",
   "execution_count": 33,
   "metadata": {},
   "outputs": [
    {
     "name": "stdout",
     "output_type": "stream",
     "text": [
      "a_function_requiring_decoration\n"
     ]
    }
   ],
   "source": [
    "from functools import wraps\n",
    "def a_new_decorator(a_func):\n",
    "    @wraps(a_func)\n",
    "    def wrapTheFunction(): \n",
    "        print(\"I am doing some boring work before executing a_func()\")\n",
    "        a_func() \n",
    "        print(\"I am doing some boring work after executing a_func()\" )\n",
    "    return wrapTheFunction \n",
    "\n",
    "@a_new_decorator \n",
    "def a_function_requiring_decoration(): \n",
    "    \"\"\"Hey you! Decorate me!\"\"\" \n",
    "    print(\"I am the function which needs some decoration to \" \"remove my foul smell\") \n",
    "    \n",
    "print(a_function_requiring_decoration.__name__)"
   ]
  },
  {
   "cell_type": "markdown",
   "metadata": {},
   "source": [
    "## 装饰器编写模板"
   ]
  },
  {
   "cell_type": "code",
   "execution_count": 34,
   "metadata": {},
   "outputs": [
    {
     "name": "stdout",
     "output_type": "stream",
     "text": [
      "Function is running\n"
     ]
    }
   ],
   "source": [
    "from functools import wraps \n",
    "def decorator_name(f): \n",
    "    @wraps(f) \n",
    "    def decorated(*args, **kwargs): \n",
    "        if not can_run: \n",
    "            return \"Function will not run\" \n",
    "        return f(*args, **kwargs) \n",
    "    return decorated \n",
    "\n",
    "@decorator_name \n",
    "def func(): \n",
    "    return(\"Function is running\") \n",
    "can_run = True \n",
    "print(func())"
   ]
  },
  {
   "cell_type": "code",
   "execution_count": 35,
   "metadata": {},
   "outputs": [
    {
     "name": "stdout",
     "output_type": "stream",
     "text": [
      "Function will not run\n"
     ]
    }
   ],
   "source": [
    "can_run = False \n",
    "print(func())"
   ]
  },
  {
   "cell_type": "markdown",
   "metadata": {},
   "source": [
    "## 装饰器使用场景\n",
    "\n",
    "### 授权(Authorization)\n",
    "装饰器能有助于检查某个⼈是否被授权去使⽤⼀个web应⽤的端点(endpoint)。它们被⼤量 使⽤于Flask和Django web框架中。这⾥是⼀个例⼦来使⽤基于装饰器的授权"
   ]
  },
  {
   "cell_type": "code",
   "execution_count": 36,
   "metadata": {},
   "outputs": [],
   "source": [
    "from functools import wraps \n",
    "def requires_auth(f):\n",
    "    @wraps(f) \n",
    "    def decorated(*args, **kwargs): \n",
    "        auth = request.authorization \n",
    "        if not auth or not check_auth(auth.username, auth.password): \n",
    "            authenticate() \n",
    "        return f(*args, **kwargs) \n",
    "    return decorated"
   ]
  },
  {
   "cell_type": "markdown",
   "metadata": {},
   "source": [
    "### ⽇志(Logging)\n",
    "⽇志是装饰器运⽤的另⼀个亮点"
   ]
  },
  {
   "cell_type": "code",
   "execution_count": 37,
   "metadata": {},
   "outputs": [
    {
     "name": "stdout",
     "output_type": "stream",
     "text": [
      "addition_func was called\n"
     ]
    },
    {
     "data": {
      "text/plain": [
       "8"
      ]
     },
     "execution_count": 37,
     "metadata": {},
     "output_type": "execute_result"
    }
   ],
   "source": [
    "from functools import wraps \n",
    "\n",
    "def logit(func): \n",
    "    @wraps(func) \n",
    "    def with_logging(*args, **kwargs): \n",
    "        print(func.__name__ + \" was called\") \n",
    "        return func(*args, **kwargs) \n",
    "    return with_logging \n",
    "\n",
    "@logit \n",
    "def addition_func(x): \n",
    "    \"\"\"Do some math.\"\"\" \n",
    "    return x + x \n",
    "\n",
    "result = addition_func(4)\n",
    "result"
   ]
  },
  {
   "cell_type": "markdown",
   "metadata": {},
   "source": [
    "## 带参数的装饰器\n",
    "\n",
    "### 在函数中嵌⼊装饰器"
   ]
  },
  {
   "cell_type": "code",
   "execution_count": 38,
   "metadata": {},
   "outputs": [
    {
     "name": "stdout",
     "output_type": "stream",
     "text": [
      "myfunc1 was called\n"
     ]
    }
   ],
   "source": [
    "from functools import wraps \n",
    "\n",
    "def logit(logfile='out.log'): \n",
    "    def logging_decorator(func): \n",
    "        @wraps(func) \n",
    "        def wrapped_function(*args, **kwargs): \n",
    "            log_string = func.__name__ + \" was called\" \n",
    "            print(log_string) \n",
    "            # 打开logfile，并写⼊内容 \n",
    "            with open(logfile, 'a') as opened_file: \n",
    "                # 现在将⽇志打到指定的logfile \n",
    "                opened_file.write(log_string + '\\n') \n",
    "            return func(*args, **kwargs) \n",
    "        return wrapped_function \n",
    "    return logging_decorator\n",
    "\n",
    "@logit() \n",
    "def myfunc1(): \n",
    "    pass\n",
    "\n",
    "myfunc1()"
   ]
  },
  {
   "cell_type": "code",
   "execution_count": 39,
   "metadata": {},
   "outputs": [
    {
     "name": "stdout",
     "output_type": "stream",
     "text": [
      "myfunc2 was called\n"
     ]
    }
   ],
   "source": [
    "@logit(logfile='func2.log') \n",
    "def myfunc2(): \n",
    "    pass\n",
    "\n",
    "myfunc2()"
   ]
  },
  {
   "cell_type": "markdown",
   "metadata": {},
   "source": [
    "现在⼀个叫做 func2.log 的⽂件出现了，⾥⾯的内容就是上⾯的字符串"
   ]
  },
  {
   "cell_type": "markdown",
   "metadata": {},
   "source": [
    "### 装饰器类"
   ]
  },
  {
   "cell_type": "code",
   "execution_count": 40,
   "metadata": {},
   "outputs": [
    {
     "name": "stdout",
     "output_type": "stream",
     "text": [
      "myfunc3 was called\n"
     ]
    }
   ],
   "source": [
    "from functools import wraps \n",
    "\n",
    "class logit_c(object): \n",
    "    def __init__(self, logfile='out.log'): \n",
    "        self.logfile = logfile\n",
    "        \n",
    "    def __call__(self, func): \n",
    "        @wraps(func) \n",
    "        def wrapped_function(*args, **kwargs): \n",
    "            log_string = func.__name__ + \" was called\" \n",
    "            print(log_string) \n",
    "            # 打开logfile并写⼊ \n",
    "            with open(self.logfile, 'a') as opened_file: \n",
    "                # 现在将⽇志打到指定的⽂件 \n",
    "                opened_file.write(log_string + '\\n') \n",
    "            # 现在，发送⼀个通知 \n",
    "            self.notify() \n",
    "            return func(*args, **kwargs) \n",
    "        return wrapped_function\n",
    "        \n",
    "    def __get__(self,instance,cls):\n",
    "        print('xxx')\n",
    "        if instance is None:\n",
    "            return self\n",
    "        else:\n",
    "            return types.MethodType(self,instance)\n",
    "        \n",
    "    def notify(self): \n",
    "        # logit只打⽇志，不做别的,针对异常可以发邮件通知 \n",
    "        pass\n",
    "    \n",
    "@logit_c(logfile='out3.log') \n",
    "def myfunc3():\n",
    "    pass\n",
    "\n",
    "myfunc3()"
   ]
  },
  {
   "cell_type": "code",
   "execution_count": 41,
   "metadata": {},
   "outputs": [
    {
     "name": "stdout",
     "output_type": "stream",
     "text": [
      "myfunc4 was called\n"
     ]
    }
   ],
   "source": [
    "class email_logit(logit_c): \n",
    "    ''' \n",
    "    ⼀个logit的实现版本，可以在函数调⽤时发送email给管理员 \n",
    "    '''\n",
    "    def __init__(self, email='admin@myproject.com',*args, **kwargs):\n",
    "        self.email = email\n",
    "        super(email_logit, self).__init__(*args, **kwargs)\n",
    "        \n",
    "    def notify(self): \n",
    "        # 发送⼀封email到self.email # 这⾥就不做实现了 \n",
    "        pass\n",
    "    \n",
    "@email_logit(logfile='out4.log') \n",
    "def myfunc4():\n",
    "    pass\n",
    "\n",
    "myfunc4()"
   ]
  },
  {
   "cell_type": "markdown",
   "metadata": {},
   "source": [
    "# Global和Return\n",
    "> - Global 全局变量，即使在函数内部定义，在函数以外的区域都能访问，但它引⼊了多余的变量到全局作⽤域，**不建议使用**\n",
    "> - Return 将函数内部定义的局部变量 值赋给了调⽤函数的变量"
   ]
  },
  {
   "cell_type": "code",
   "execution_count": 42,
   "metadata": {},
   "outputs": [
    {
     "data": {
      "text/plain": [
       "8"
      ]
     },
     "execution_count": 42,
     "metadata": {},
     "output_type": "execute_result"
    }
   ],
   "source": [
    "def add(value1, value2):\n",
    "    return value1 + value2\n",
    "\n",
    "result = add(3, 5)\n",
    "result"
   ]
  },
  {
   "cell_type": "code",
   "execution_count": 43,
   "metadata": {},
   "outputs": [
    {
     "name": "stdout",
     "output_type": "stream",
     "text": [
      "8\n"
     ]
    }
   ],
   "source": [
    "def add(value1,value2):\n",
    "    global result\n",
    "    result = value1 + value2\n",
    "\n",
    "add(3,5)\n",
    "print(result)"
   ]
  },
  {
   "cell_type": "code",
   "execution_count": 44,
   "metadata": {},
   "outputs": [
    {
     "name": "stdout",
     "output_type": "stream",
     "text": [
      "Danny 30\n"
     ]
    }
   ],
   "source": [
    "def profile():\n",
    "    name = \"Danny\"\n",
    "    age = 30\n",
    "    return name, age\n",
    "\n",
    "name,age=profile()\n",
    "print(name,age)"
   ]
  },
  {
   "cell_type": "markdown",
   "metadata": {},
   "source": [
    "# 可变(mutable)与不可变(immutable)的数据类型\n",
    "\n",
    "## 什么是不可变类型？\n",
    "存储空间保存的数据不允许被修改，这种数据就是不可变类型。\n",
    "\n",
    "常见的不可变类型有:\n",
    "> - 数字类型 int, bool, float, complex, long(2.x)\n",
    "> - 字符串 str\n",
    "> - 元组 tuple\n",
    "\n",
    "## 什么是可变类型？\n",
    "存储空间保存的数据允许被修改，这种数据就是可变类型。\n",
    "\n",
    "常见的可变类型有:\n",
    "\n",
    "> - 列表 list\n",
    "> - 字典 dict\n",
    "> - 集合 set\n",
    "\n",
    "***需要注意***，可变类型通过方便改变数据才是修改内存中的数据，使用赋值`=`号并不是修改内存中的数据，而是开辟出一块新的空间来存放新的数据"
   ]
  },
  {
   "cell_type": "code",
   "execution_count": 45,
   "metadata": {},
   "outputs": [
    {
     "data": {
      "text/plain": [
       "[42]"
      ]
     },
     "execution_count": 45,
     "metadata": {},
     "output_type": "execute_result"
    }
   ],
   "source": [
    "def add_to(element, target=None): \n",
    "    if target is None: \n",
    "        target = [] \n",
    "    target.append(element) \n",
    "    return target\n",
    "add_to(42)"
   ]
  },
  {
   "cell_type": "code",
   "execution_count": 46,
   "metadata": {},
   "outputs": [
    {
     "data": {
      "text/plain": [
       "[42]"
      ]
     },
     "execution_count": 46,
     "metadata": {},
     "output_type": "execute_result"
    }
   ],
   "source": [
    "add_to(42)"
   ]
  },
  {
   "cell_type": "markdown",
   "metadata": {},
   "source": [
    "通过方法来修改的字典或者列表，其内存地址是不变了，也说明了字典列表是可变的"
   ]
  },
  {
   "cell_type": "code",
   "execution_count": 48,
   "metadata": {},
   "outputs": [
    {
     "name": "stdout",
     "output_type": "stream",
     "text": [
      "定义列表后的内存地址 139668719525832,[1, 2, 3]\n",
      "修改数据后的内存地址 139668719525832,[10, 999]\n",
      "定义字典后的内存地址 139668718533584,{'name': '小明'}\n",
      "修改数据后的内存地址 139668718533584,{'age': 18, 'name': '老王'}\n"
     ]
    }
   ],
   "source": [
    "demo_list = [1, 2, 3]\n",
    "print(\"定义列表后的内存地址 %d,%s\" % (id(demo_list),str(demo_list)))\n",
    "demo_list.append(999)\n",
    "demo_list.pop(0)\n",
    "demo_list.remove(2)\n",
    "demo_list[0] = 10\n",
    "print(\"修改数据后的内存地址 %d,%s\" % (id(demo_list),str(demo_list)))\n",
    "\n",
    "demo_dict = {\"name\": \"小明\"}\n",
    "print(\"定义字典后的内存地址 %d,%s\" % (id(demo_dict),str(demo_dict)))\n",
    "demo_dict[\"age\"] = 18\n",
    "demo_dict.pop(\"name\")\n",
    "demo_dict[\"name\"] = \"老王\"\n",
    "print(\"修改数据后的内存地址 %d,%s\" % (id(demo_dict),str(demo_dict)))"
   ]
  },
  {
   "cell_type": "markdown",
   "metadata": {},
   "source": [
    "**说明** `=`赋值运算符是重新为变量指向一个新的内存地址，而不是修改原来内存的数据，注意与上例区别好。"
   ]
  },
  {
   "cell_type": "code",
   "execution_count": 49,
   "metadata": {},
   "outputs": [
    {
     "name": "stdout",
     "output_type": "stream",
     "text": [
      "139669362193440\n",
      "139668719842560\n",
      "139668718468744\n",
      "139668771800456\n"
     ]
    }
   ],
   "source": [
    "a = 1\n",
    "print(id(a))\n",
    "a = \"hello\"\n",
    "print(id(a))\n",
    "a = [1, 2, 3]\n",
    "print(id(a))\n",
    "a = [3, 2, 1]\n",
    "print(id(a))"
   ]
  },
  {
   "cell_type": "markdown",
   "metadata": {},
   "source": [
    "## 字典的key与哈希\n",
    "字典的键必须是不可变类型数据，而值则可以是任意类型的数据。\n",
    "\n",
    "这是因为不可变类型的数据才会有哈希值，而字典的键必须要有对应的哈希值。\n",
    "\n",
    "Python中有一个内置函数hash(o)可以接受一个不可变类型数据作为参数，返回一个整数，这个整数可以看成是该数据的特征码，\n",
    "因此，相同的数据内容得到相同的整数，而不同的数据内容则得到不同的整数。\n",
    "\n",
    "另外\n",
    "> - **由于列表是不可哈希类型的，因此决定了它的有序性，可重复性。**\n",
    "> - **由于字典、集合是可哈希类型的，因此具有不可重复，无序性。**"
   ]
  },
  {
   "cell_type": "markdown",
   "metadata": {},
   "source": [
    "# __slots__魔法\n",
    "\n",
    "在Python中，每个类都有实例属性。默认情况下Python⽤⼀个字典来保存⼀个对象的实例属性。\n",
    "\n",
    "这⾮常有⽤，因为它允许我们在运⾏时去设置任意的新属性。\n",
    "\n",
    "然⽽，对于有着已知属性的⼩类来说，它可能是个瓶颈。**这个字典浪费了很多内存。 Python不能在对象创建时直接分配⼀个固定量的内存来保存所有的属性**。\n",
    "\n",
    "因此如果你创建许多对象（我指的是成千上万个），它会消耗掉很多内存。 \n",
    "不过还是有⼀个⽅法来规避这个问题。这个⽅法需要**使⽤`__slots__`来告诉Python不要使 ⽤字典，⽽且只给⼀个固定集合的属性分配空间**。\n",
    "\n",
    "**[ipython_memory_usage](https://github.com/ianozsvald/ipython_memory_usage)**的安装，用法参见官网"
   ]
  },
  {
   "cell_type": "code",
   "execution_count": 50,
   "metadata": {},
   "outputs": [],
   "source": [
    "class MyClass(object):\n",
    "    def __init__(self, name, identifier):\n",
    "        self.name = name\n",
    "        self.identifier = identifier"
   ]
  },
  {
   "cell_type": "code",
   "execution_count": 51,
   "metadata": {},
   "outputs": [],
   "source": [
    "class MyClassWithSlots(object): \n",
    "    __slots__ = ['name', 'identifier']\n",
    "    def __init__(self, name, identifier):\n",
    "        self.name = name\n",
    "        self.identifier = identifier"
   ]
  },
  {
   "cell_type": "code",
   "execution_count": 52,
   "metadata": {},
   "outputs": [],
   "source": [
    "import ipython_memory_usage.ipython_memory_usage as imu\n",
    "import sys"
   ]
  },
  {
   "cell_type": "code",
   "execution_count": 53,
   "metadata": {},
   "outputs": [
    {
     "name": "stdout",
     "output_type": "stream",
     "text": [
      "In [53] used 0.0117 MiB RAM in 0.11s, peaked 0.00 MiB above current, total RAM usage 67.91 MiB\n"
     ]
    }
   ],
   "source": [
    "imu.start_watching_memory()"
   ]
  },
  {
   "cell_type": "code",
   "execution_count": 54,
   "metadata": {},
   "outputs": [
    {
     "data": {
      "text/plain": [
       "2115952"
      ]
     },
     "execution_count": 54,
     "metadata": {},
     "output_type": "execute_result"
    },
    {
     "name": "stdout",
     "output_type": "stream",
     "text": [
      "In [54] used 15.9805 MiB RAM in 0.31s, peaked 0.00 MiB above current, total RAM usage 83.89 MiB\n"
     ]
    }
   ],
   "source": [
    "num = 1024*256\n",
    "x = [MyClassWithSlots(1,1) for i in range(num)]\n",
    "sys.getsizeof(x)"
   ]
  },
  {
   "cell_type": "code",
   "execution_count": 55,
   "metadata": {},
   "outputs": [
    {
     "data": {
      "text/plain": [
       "2115952"
      ]
     },
     "execution_count": 55,
     "metadata": {},
     "output_type": "execute_result"
    },
    {
     "name": "stdout",
     "output_type": "stream",
     "text": [
      "In [55] used 29.8945 MiB RAM in 0.44s, peaked 4.05 MiB above current, total RAM usage 113.79 MiB\n"
     ]
    }
   ],
   "source": [
    "num = 1024*256\n",
    "x = [MyClass(1,1) for i in range(num)]\n",
    "sys.getsizeof(x)"
   ]
  },
  {
   "cell_type": "code",
   "execution_count": 56,
   "metadata": {},
   "outputs": [],
   "source": [
    "imu.stop_watching_memory()"
   ]
  },
  {
   "cell_type": "markdown",
   "metadata": {},
   "source": [
    "# virtualenv 虚拟的独⽴(隔离)的Python环境\n",
    "\n",
    "   [virtualenvs 文档](https://virtualenv.pypa.io/en/latest/userguide/)\n",
    "\n",
    "```bash\n",
    " #安装virtualevn\n",
    "  pip install virtualenv\n",
    " \n",
    " #创建一个虚拟环境  ⽤--system-site-packages 让虚拟环境使用全局系统模块\n",
    "  virtualenv --system-site-packages myenv\n",
    " #激活虚拟环境\n",
    "  cd myenv\n",
    "  source bin/activate\n",
    "  \n",
    " #退出虚拟环境\n",
    "  deactivate\n",
    "  \n",
    "```"
   ]
  },
  {
   "cell_type": "markdown",
   "metadata": {},
   "source": [
    "# 容器 Collections\n",
    "\n",
    "Python附带⼀个模块，它包含许多容器数据类型，名字叫作collections\n",
    "\n",
    "## defaultdict\n",
    "与```dict```类型不同，你不需要检查**key**是否存在\n",
    "\n",
    "```python\n",
    "class collections.defaultdict([default_factory[, ...]])\n",
    "'''\n",
    "Returns a new dictionary-like object. defaultdict is a subclass of the built-in dict class. It overrides one method and adds one writable instance variable. The remaining functionality is the same as for the dict class and is not documented here.\n",
    "'''\n",
    "```"
   ]
  },
  {
   "cell_type": "code",
   "execution_count": 57,
   "metadata": {},
   "outputs": [
    {
     "name": "stdout",
     "output_type": "stream",
     "text": [
      "defaultdict(<class 'list'>, {'Yasoob': ['Yellow', 'Red'], 'Ali': ['Blue', 'Black'], 'Arham': ['Green'], 'Ahmed': ['Silver']})\n"
     ]
    }
   ],
   "source": [
    "from collections import defaultdict\n",
    "\n",
    "colours = (\n",
    "    ('Yasoob', 'Yellow'),\n",
    "    ('Ali', 'Blue'),\n",
    "    ('Arham', 'Green'),\n",
    "    ('Ali', 'Black'),\n",
    "    ('Yasoob', 'Red'),\n",
    "    ('Ahmed', 'Silver'),\n",
    ")\n",
    "\n",
    "favourite_colours = defaultdict(list)\n",
    "\n",
    "for name, colour in colours:\n",
    "    favourite_colours[name].append(colour)\n",
    "\n",
    "print(favourite_colours)"
   ]
  },
  {
   "cell_type": "markdown",
   "metadata": {},
   "source": [
    "当你在一个字典中对一个键进行嵌套赋值时，如果这个键不存在，会触发```keyError```异常"
   ]
  },
  {
   "cell_type": "code",
   "execution_count": 58,
   "metadata": {},
   "outputs": [
    {
     "ename": "KeyError",
     "evalue": "'colours'",
     "output_type": "error",
     "traceback": [
      "\u001b[0;31m---------------------------------------------------------------------------\u001b[0m",
      "\u001b[0;31mKeyError\u001b[0m                                  Traceback (most recent call last)",
      "\u001b[0;32m<ipython-input-58-6221372f06f1>\u001b[0m in \u001b[0;36m<module>\u001b[0;34m\u001b[0m\n\u001b[1;32m      1\u001b[0m \u001b[0msome_dict\u001b[0m \u001b[0;34m=\u001b[0m \u001b[0;34m{\u001b[0m\u001b[0;34m}\u001b[0m\u001b[0;34m\u001b[0m\u001b[0;34m\u001b[0m\u001b[0m\n\u001b[0;32m----> 2\u001b[0;31m \u001b[0msome_dict\u001b[0m\u001b[0;34m[\u001b[0m\u001b[0;34m'colours'\u001b[0m\u001b[0;34m]\u001b[0m\u001b[0;34m[\u001b[0m\u001b[0;34m'favourite'\u001b[0m\u001b[0;34m]\u001b[0m \u001b[0;34m=\u001b[0m \u001b[0;34m\"yellow\"\u001b[0m\u001b[0;34m\u001b[0m\u001b[0;34m\u001b[0m\u001b[0m\n\u001b[0m",
      "\u001b[0;31mKeyError\u001b[0m: 'colours'"
     ]
    }
   ],
   "source": [
    "some_dict = {}\n",
    "some_dict['colours']['favourite'] = \"yellow\""
   ]
  },
  {
   "cell_type": "markdown",
   "metadata": {},
   "source": [
    "使用```defaultdict```的解决使用```dict```触发```KeyError```的问题"
   ]
  },
  {
   "cell_type": "code",
   "execution_count": 59,
   "metadata": {},
   "outputs": [
    {
     "name": "stdout",
     "output_type": "stream",
     "text": [
      "{\"colours\": {\"favourite\": \"yellow\"}}\n"
     ]
    }
   ],
   "source": [
    "import collections\n",
    "tree = lambda: collections.defaultdict(tree)\n",
    "some_dict = tree()\n",
    "some_dict['colours']['favourite'] = \"yellow\"\n",
    "\n",
    "import json\n",
    "print(json.dumps(some_dict))"
   ]
  },
  {
   "cell_type": "code",
   "execution_count": 60,
   "metadata": {},
   "outputs": [
    {
     "name": "stdout",
     "output_type": "stream",
     "text": [
      "{\"colours\": {\"favourite\": \"yellow\"}}\n"
     ]
    }
   ],
   "source": [
    "import collections\n",
    "def tree2():\n",
    "    return collections.defaultdict(tree)\n",
    "some_dict = tree2()\n",
    "some_dict['colours']['favourite'] = \"yellow\"\n",
    "\n",
    "import json\n",
    "print(json.dumps(some_dict))"
   ]
  },
  {
   "cell_type": "markdown",
   "metadata": {},
   "source": [
    "指定其它function_factory"
   ]
  },
  {
   "cell_type": "code",
   "execution_count": 61,
   "metadata": {},
   "outputs": [
    {
     "data": {
      "text/plain": [
       "[('m', 1), ('i', 4), ('s', 4), ('p', 2)]"
      ]
     },
     "execution_count": 61,
     "metadata": {},
     "output_type": "execute_result"
    }
   ],
   "source": [
    "s = 'mississippi'\n",
    "d = defaultdict(int)\n",
    "for k in s:\n",
    "    d[k] += 1\n",
    "list(d.items())"
   ]
  },
  {
   "cell_type": "markdown",
   "metadata": {},
   "source": [
    "## counter\n",
    "Counter是一个计数器，它可以帮助我们针对某项数据进行计数。比如它可以用来计算每个人喜欢多少种颜色："
   ]
  },
  {
   "cell_type": "code",
   "execution_count": 62,
   "metadata": {},
   "outputs": [
    {
     "name": "stdout",
     "output_type": "stream",
     "text": [
      "Counter({'Yasoob': 2, 'Ali': 2, 'Arham': 1, 'Ahmed': 1})\n"
     ]
    }
   ],
   "source": [
    "from collections import Counter\n",
    "\n",
    "colours = (\n",
    "    ('Yasoob', 'Yellow'),\n",
    "    ('Ali', 'Blue'),\n",
    "    ('Arham', 'Green'),\n",
    "    ('Ali', 'Black'),\n",
    "    ('Yasoob', 'Red'),\n",
    "    ('Ahmed', 'Silver'),\n",
    ")\n",
    "\n",
    "favs = Counter(name for name, colour in colours)\n",
    "print(favs)"
   ]
  },
  {
   "cell_type": "code",
   "execution_count": 63,
   "metadata": {},
   "outputs": [
    {
     "data": {
      "text/plain": [
       "Counter({2: 2, 3: 1, 4: 2, 7: 2, 8: 1})"
      ]
     },
     "execution_count": 63,
     "metadata": {},
     "output_type": "execute_result"
    }
   ],
   "source": [
    "Counter([2,3,4,7,2,4,8,7])"
   ]
  },
  {
   "cell_type": "markdown",
   "metadata": {},
   "source": [
    "利用它统计一个文件，相同内容的行数"
   ]
  },
  {
   "cell_type": "code",
   "execution_count": 64,
   "metadata": {},
   "outputs": [
    {
     "name": "stdout",
     "output_type": "stream",
     "text": [
      "Counter({b'myfunc3 was called\\n': 5, b'myfunc4 was called\\n': 3})\n"
     ]
    }
   ],
   "source": [
    "with open('out4.log', 'rb') as f:\n",
    "    line_count = Counter(f)\n",
    "print(line_count)"
   ]
  },
  {
   "cell_type": "markdown",
   "metadata": {},
   "source": [
    "## deque\n",
    "deque提供了一个双端队列，你可以从头/尾两端添加或删除元素。要想使用它，首先我们要从```collections```中导入```deque```模块："
   ]
  },
  {
   "cell_type": "code",
   "execution_count": 65,
   "metadata": {},
   "outputs": [
    {
     "name": "stdout",
     "output_type": "stream",
     "text": [
      "3\n",
      "1\n",
      "3\n",
      "5\n",
      "deque([1, 2, 3])\n",
      "deque([0, 1, 2, 3, 4, 5, 6, 7, 8])\n"
     ]
    }
   ],
   "source": [
    "from collections import deque\n",
    "d = deque()\n",
    "d.append('1')\n",
    "d.append('2')\n",
    "d.append('3')\n",
    "\n",
    "print(len(d))\n",
    "print(d[0])\n",
    "print(d[-1])\n",
    "\n",
    "\n",
    "d = deque(range(5))\n",
    "print(len(d))\n",
    "d.popleft()\n",
    "d.pop()\n",
    "print(d)\n",
    "\n",
    "#可以限制这个列表的⼤⼩,现在当你插入30条数据时，最左边一端的数据将从队列中删除。\n",
    "d = deque(maxlen=30)\n",
    "\n",
    "d = deque([1,2,3,4,5])\n",
    "d.extendleft([0])\n",
    "d.extend([6,7,8])\n",
    "print(d)"
   ]
  },
  {
   "cell_type": "markdown",
   "metadata": {},
   "source": [
    "## namedtuple\n",
    "\n",
    "⼀个元组是⼀个不可变的列表，你可以存储⼀个数据的序列，它和命名元组 (namedtuples)⾮常像，\n",
    "\n",
    "但有⼏个关键的不同。 主要相似点是都不像列表，你不能修改元组中的数据。为了获取元组中的数据，你需要使 ⽤整数作为索引：\n",
    "\n",
    "那namedtuples是什么呢？它把元组变成⼀个针对简单任务的容器。你不必使⽤整数索引来访问⼀个namedtuples的数据。\n",
    "\n",
    "你可以像字典(dict)⼀样访问namedtuples， 但namedtuples是不可变的\n",
    "\n",
    "**```namedtuple```的每个实例没有对象字典**，所以它们很轻量，与普通的元组比，并不需要更多的内存。这使得它们比字典更快。"
   ]
  },
  {
   "cell_type": "code",
   "execution_count": 66,
   "metadata": {},
   "outputs": [
    {
     "name": "stdout",
     "output_type": "stream",
     "text": [
      "Ali\n"
     ]
    }
   ],
   "source": [
    "man = ('Ali', 30) \n",
    "print(man[0])"
   ]
  },
  {
   "cell_type": "code",
   "execution_count": 67,
   "metadata": {},
   "outputs": [
    {
     "name": "stdout",
     "output_type": "stream",
     "text": [
      "Animal(name='perry', age=31, type='cat')\n",
      "perry 31 31\n",
      "OrderedDict([('name', 'perry'), ('age', 31), ('type', 'cat')])\n"
     ]
    }
   ],
   "source": [
    "from collections import namedtuple\n",
    "\n",
    "Animal = namedtuple('Animal', ('name','age','type'))\n",
    "perry = Animal(name=\"perry\", age=31, type=\"cat\")\n",
    "\n",
    "print(perry)\n",
    "print(perry.name,perry.age,perry[1])\n",
    "\n",
    "print(perry._asdict())"
   ]
  },
  {
   "cell_type": "markdown",
   "metadata": {},
   "source": [
    "要记住它是一个元组，属性值在```namedtuple```中是不可变的，所以下面的代码不能工作"
   ]
  },
  {
   "cell_type": "code",
   "execution_count": 69,
   "metadata": {},
   "outputs": [
    {
     "ename": "AttributeError",
     "evalue": "can't set attribute",
     "output_type": "error",
     "traceback": [
      "\u001b[0;31m---------------------------------------------------------------------------\u001b[0m",
      "\u001b[0;31mAttributeError\u001b[0m                            Traceback (most recent call last)",
      "\u001b[0;32m<ipython-input-69-4e145e02a442>\u001b[0m in \u001b[0;36m<module>\u001b[0;34m\u001b[0m\n\u001b[1;32m      3\u001b[0m \u001b[0mAnimal\u001b[0m \u001b[0;34m=\u001b[0m \u001b[0mnamedtuple\u001b[0m\u001b[0;34m(\u001b[0m\u001b[0;34m'Animal'\u001b[0m\u001b[0;34m,\u001b[0m \u001b[0;34m'name age type'\u001b[0m\u001b[0;34m)\u001b[0m\u001b[0;34m\u001b[0m\u001b[0;34m\u001b[0m\u001b[0m\n\u001b[1;32m      4\u001b[0m \u001b[0mperry\u001b[0m \u001b[0;34m=\u001b[0m \u001b[0mAnimal\u001b[0m\u001b[0;34m(\u001b[0m\u001b[0mname\u001b[0m\u001b[0;34m=\u001b[0m\u001b[0;34m\"perry\"\u001b[0m\u001b[0;34m,\u001b[0m \u001b[0mage\u001b[0m\u001b[0;34m=\u001b[0m\u001b[0;36m31\u001b[0m\u001b[0;34m,\u001b[0m \u001b[0mtype\u001b[0m\u001b[0;34m=\u001b[0m\u001b[0;34m\"cat\"\u001b[0m\u001b[0;34m)\u001b[0m\u001b[0;34m\u001b[0m\u001b[0;34m\u001b[0m\u001b[0m\n\u001b[0;32m----> 5\u001b[0;31m \u001b[0mperry\u001b[0m\u001b[0;34m.\u001b[0m\u001b[0mage\u001b[0m \u001b[0;34m=\u001b[0m \u001b[0;36m42\u001b[0m\u001b[0;34m\u001b[0m\u001b[0;34m\u001b[0m\u001b[0m\n\u001b[0m",
      "\u001b[0;31mAttributeError\u001b[0m: can't set attribute"
     ]
    }
   ],
   "source": [
    "from collections import namedtuple\n",
    "\n",
    "Animal = namedtuple('Animal', 'name age type')\n",
    "perry = Animal(name=\"perry\", age=31, type=\"cat\")\n",
    "perry.age = 42"
   ]
  },
  {
   "cell_type": "markdown",
   "metadata": {},
   "source": [
    "## enum.Enum\n",
    "\n",
    "枚举对象，它属于```enum```模块，存在于Python 3.4以上版本中（同时作为一个独立的PyPI包```enum34```供老版本使用）。Enums(枚举类型)基本上是一种组织各种东西的方式。"
   ]
  },
  {
   "cell_type": "code",
   "execution_count": 70,
   "metadata": {},
   "outputs": [],
   "source": [
    "from enum import Enum\n",
    "\n",
    "class Species(Enum):\n",
    "    cat = 1\n",
    "    dog = 2\n",
    "    horse = 3\n",
    "    aardvark = 4\n",
    "    butterfly = 5\n",
    "    owl = 6\n",
    "    platypus = 7\n",
    "    dragon = 8\n",
    "    unicorn = 9\n",
    "    # 依次类推\n",
    "\n",
    "    # 但我们并不想关心同一物种的年龄，所以我们可以使用一个别名\n",
    "    kitten = 1  # (译者注：幼小的猫咪)\n",
    "    puppy = 2   # (译者注：幼小的狗狗)\n",
    "\n",
    "Animal = namedtuple('Animal', 'name age type')\n",
    "perry = Animal(name=\"Perry\", age=31, type=Species.cat)\n",
    "drogon = Animal(name=\"Drogon\", age=4, type=Species.dragon)\n",
    "tom = Animal(name=\"Tom\", age=75, type=Species.cat)\n",
    "charlie = Animal(name=\"Charlie\", age=2, type=Species.kitten)"
   ]
  },
  {
   "cell_type": "code",
   "execution_count": 71,
   "metadata": {},
   "outputs": [
    {
     "data": {
      "text/plain": [
       "True"
      ]
     },
     "execution_count": 71,
     "metadata": {},
     "output_type": "execute_result"
    }
   ],
   "source": [
    "charlie.type == tom.type"
   ]
  },
  {
   "cell_type": "code",
   "execution_count": 72,
   "metadata": {},
   "outputs": [
    {
     "name": "stdout",
     "output_type": "stream",
     "text": [
      "Species.cat Species.cat\n"
     ]
    }
   ],
   "source": [
    "print(charlie.type,tom.type)"
   ]
  },
  {
   "cell_type": "code",
   "execution_count": 73,
   "metadata": {},
   "outputs": [
    {
     "name": "stdout",
     "output_type": "stream",
     "text": [
      "Species.cat Species.cat Species.cat\n"
     ]
    }
   ],
   "source": [
    "print(Species(1),Species['cat'],Species.cat)"
   ]
  },
  {
   "cell_type": "markdown",
   "metadata": {},
   "source": [
    "# 枚举 Enumerate"
   ]
  },
  {
   "cell_type": "code",
   "execution_count": 74,
   "metadata": {
    "scrolled": true
   },
   "outputs": [
    {
     "name": "stdout",
     "output_type": "stream",
     "text": [
      "1 apple\n",
      "2 banana\n",
      "3 grapes\n",
      "4 pear\n"
     ]
    }
   ],
   "source": [
    "my_list = ['apple', 'banana', 'grapes', 'pear']\n",
    "for c, value in enumerate(my_list, 1):\n",
    "    print(c, value)"
   ]
  },
  {
   "cell_type": "code",
   "execution_count": 75,
   "metadata": {},
   "outputs": [
    {
     "name": "stdout",
     "output_type": "stream",
     "text": [
      "[(1, 'apple'), (2, 'banana'), (3, 'grapes'), (4, 'pear')]\n"
     ]
    }
   ],
   "source": [
    "my_list = ['apple', 'banana', 'grapes', 'pear']\n",
    "counter_list = list(enumerate(my_list, 1))\n",
    "print(counter_list)"
   ]
  },
  {
   "cell_type": "markdown",
   "metadata": {},
   "source": [
    "# 对象⾃省\n",
    "\n",
    "⾃省(introspection)，在计算机编程领域⾥，是指在运⾏时来判断⼀个对象的类型的能⼒。 它是Python的强项之⼀。Python中所有⼀切都是⼀个对象"
   ]
  },
  {
   "cell_type": "markdown",
   "metadata": {},
   "source": [
    "## dir\n",
    "\n",
    "是⽤于⾃省的最重要的函数之⼀。它返回⼀个列表，列出了⼀个对象所拥有的属性和⽅ 法"
   ]
  },
  {
   "cell_type": "code",
   "execution_count": 76,
   "metadata": {
    "scrolled": true
   },
   "outputs": [
    {
     "data": {
      "text/plain": [
       "['__add__',\n",
       " '__class__',\n",
       " '__contains__',\n",
       " '__delattr__',\n",
       " '__delitem__',\n",
       " '__dir__',\n",
       " '__doc__',\n",
       " '__eq__',\n",
       " '__format__',\n",
       " '__ge__',\n",
       " '__getattribute__',\n",
       " '__getitem__',\n",
       " '__gt__',\n",
       " '__hash__',\n",
       " '__iadd__',\n",
       " '__imul__',\n",
       " '__init__',\n",
       " '__init_subclass__',\n",
       " '__iter__',\n",
       " '__le__',\n",
       " '__len__',\n",
       " '__lt__',\n",
       " '__mul__',\n",
       " '__ne__',\n",
       " '__new__',\n",
       " '__reduce__',\n",
       " '__reduce_ex__',\n",
       " '__repr__',\n",
       " '__reversed__',\n",
       " '__rmul__',\n",
       " '__setattr__',\n",
       " '__setitem__',\n",
       " '__sizeof__',\n",
       " '__str__',\n",
       " '__subclasshook__',\n",
       " 'append',\n",
       " 'clear',\n",
       " 'copy',\n",
       " 'count',\n",
       " 'extend',\n",
       " 'index',\n",
       " 'insert',\n",
       " 'pop',\n",
       " 'remove',\n",
       " 'reverse',\n",
       " 'sort']"
      ]
     },
     "execution_count": 76,
     "metadata": {},
     "output_type": "execute_result"
    }
   ],
   "source": [
    "my_list = [1, 2, 3]\n",
    "dir(my_list)"
   ]
  },
  {
   "cell_type": "markdown",
   "metadata": {},
   "source": [
    "## type和id\n",
    "\n",
    "> - type函数返回⼀个对象的类型\n",
    "> - id()函数返回任意不同种类对象的唯⼀ID"
   ]
  },
  {
   "cell_type": "code",
   "execution_count": 77,
   "metadata": {},
   "outputs": [
    {
     "name": "stdout",
     "output_type": "stream",
     "text": [
      "<class 'str'> <class 'dict'> <class 'list'> <class 'type'>\n"
     ]
    }
   ],
   "source": [
    "print(type(''),type({}),type([]),type(dict))"
   ]
  },
  {
   "cell_type": "code",
   "execution_count": 78,
   "metadata": {},
   "outputs": [
    {
     "name": "stdout",
     "output_type": "stream",
     "text": [
      "139668718335288\n"
     ]
    }
   ],
   "source": [
    "name = \"Yasoob\" \n",
    "print(id(name))"
   ]
  },
  {
   "cell_type": "markdown",
   "metadata": {},
   "source": [
    "## inspect模块\n",
    "\n",
    "inspect模块也提供了许多有⽤的函数，来获取活跃对象的信息。⽐⽅说，你可以查看⼀ 个对象的成员，只需运⾏"
   ]
  },
  {
   "cell_type": "code",
   "execution_count": 79,
   "metadata": {
    "scrolled": true
   },
   "outputs": [
    {
     "name": "stdout",
     "output_type": "stream",
     "text": [
      "[('__add__', <slot wrapper '__add__' of 'str' objects>), ('__class__', <class 'type'>), ('__contains__', <slot wrapper '__contains__' of 'str' objects>), ('__delattr__', <slot wrapper '__delattr__' of 'object' objects>), ('__dir__', <method '__dir__' of 'object' objects>), ('__doc__', \"str(object='') -> str\\nstr(bytes_or_buffer[, encoding[, errors]]) -> str\\n\\nCreate a new string object from the given object. If encoding or\\nerrors is specified, then the object must expose a data buffer\\nthat will be decoded using the given encoding and error handler.\\nOtherwise, returns the result of object.__str__() (if defined)\\nor repr(object).\\nencoding defaults to sys.getdefaultencoding().\\nerrors defaults to 'strict'.\"), ('__eq__', <slot wrapper '__eq__' of 'str' objects>), ('__format__', <method '__format__' of 'str' objects>), ('__ge__', <slot wrapper '__ge__' of 'str' objects>), ('__getattribute__', <slot wrapper '__getattribute__' of 'str' objects>), ('__getitem__', <slot wrapper '__getitem__' of 'str' objects>), ('__getnewargs__', <method '__getnewargs__' of 'str' objects>), ('__gt__', <slot wrapper '__gt__' of 'str' objects>), ('__hash__', <slot wrapper '__hash__' of 'str' objects>), ('__init__', <slot wrapper '__init__' of 'object' objects>), ('__init_subclass__', <built-in method __init_subclass__ of type object at 0x7f074eb60220>), ('__iter__', <slot wrapper '__iter__' of 'str' objects>), ('__le__', <slot wrapper '__le__' of 'str' objects>), ('__len__', <slot wrapper '__len__' of 'str' objects>), ('__lt__', <slot wrapper '__lt__' of 'str' objects>), ('__mod__', <slot wrapper '__mod__' of 'str' objects>), ('__mul__', <slot wrapper '__mul__' of 'str' objects>), ('__ne__', <slot wrapper '__ne__' of 'str' objects>), ('__new__', <built-in method __new__ of type object at 0x7f074eb60220>), ('__reduce__', <method '__reduce__' of 'object' objects>), ('__reduce_ex__', <method '__reduce_ex__' of 'object' objects>), ('__repr__', <slot wrapper '__repr__' of 'str' objects>), ('__rmod__', <slot wrapper '__rmod__' of 'str' objects>), ('__rmul__', <slot wrapper '__rmul__' of 'str' objects>), ('__setattr__', <slot wrapper '__setattr__' of 'object' objects>), ('__sizeof__', <method '__sizeof__' of 'str' objects>), ('__str__', <slot wrapper '__str__' of 'str' objects>), ('__subclasshook__', <built-in method __subclasshook__ of type object at 0x7f074eb60220>), ('capitalize', <method 'capitalize' of 'str' objects>), ('casefold', <method 'casefold' of 'str' objects>), ('center', <method 'center' of 'str' objects>), ('count', <method 'count' of 'str' objects>), ('encode', <method 'encode' of 'str' objects>), ('endswith', <method 'endswith' of 'str' objects>), ('expandtabs', <method 'expandtabs' of 'str' objects>), ('find', <method 'find' of 'str' objects>), ('format', <method 'format' of 'str' objects>), ('format_map', <method 'format_map' of 'str' objects>), ('index', <method 'index' of 'str' objects>), ('isalnum', <method 'isalnum' of 'str' objects>), ('isalpha', <method 'isalpha' of 'str' objects>), ('isascii', <method 'isascii' of 'str' objects>), ('isdecimal', <method 'isdecimal' of 'str' objects>), ('isdigit', <method 'isdigit' of 'str' objects>), ('isidentifier', <method 'isidentifier' of 'str' objects>), ('islower', <method 'islower' of 'str' objects>), ('isnumeric', <method 'isnumeric' of 'str' objects>), ('isprintable', <method 'isprintable' of 'str' objects>), ('isspace', <method 'isspace' of 'str' objects>), ('istitle', <method 'istitle' of 'str' objects>), ('isupper', <method 'isupper' of 'str' objects>), ('join', <method 'join' of 'str' objects>), ('ljust', <method 'ljust' of 'str' objects>), ('lower', <method 'lower' of 'str' objects>), ('lstrip', <method 'lstrip' of 'str' objects>), ('maketrans', <built-in method maketrans of type object at 0x7f074eb60220>), ('partition', <method 'partition' of 'str' objects>), ('replace', <method 'replace' of 'str' objects>), ('rfind', <method 'rfind' of 'str' objects>), ('rindex', <method 'rindex' of 'str' objects>), ('rjust', <method 'rjust' of 'str' objects>), ('rpartition', <method 'rpartition' of 'str' objects>), ('rsplit', <method 'rsplit' of 'str' objects>), ('rstrip', <method 'rstrip' of 'str' objects>), ('split', <method 'split' of 'str' objects>), ('splitlines', <method 'splitlines' of 'str' objects>), ('startswith', <method 'startswith' of 'str' objects>), ('strip', <method 'strip' of 'str' objects>), ('swapcase', <method 'swapcase' of 'str' objects>), ('title', <method 'title' of 'str' objects>), ('translate', <method 'translate' of 'str' objects>), ('upper', <method 'upper' of 'str' objects>), ('zfill', <method 'zfill' of 'str' objects>)]\n"
     ]
    }
   ],
   "source": [
    "import inspect \n",
    "print(inspect.getmembers(str))"
   ]
  },
  {
   "cell_type": "markdown",
   "metadata": {},
   "source": [
    "# 各种推导式(comprehensions)\n",
    "\n",
    "推导式（又称解析式）是Python的⼀种独有特性。 \n",
    "\n",
    "推导式是可以从⼀个数据序列构建另⼀个新的数据序列的结构体。 \n",
    "\n",
    "共有三种推导，在 Python2和3中都有⽀持： \n",
    "> - 列表(list)推导式 \n",
    "> - 字典(dict)推导式 \n",
    "> - 集合(set)推导式"
   ]
  },
  {
   "cell_type": "markdown",
   "metadata": {},
   "source": [
    "## 列表推导式（list comprehensions）\n",
    "\n",
    "参考： https://python-3-patterns-idioms-test.readthedocs.io/en/latest/Comprehensions.html#dictionary-comprehensions\n",
    "\n",
    "列表推导式（又称列表解析式）提供了⼀种简明扼要的⽅法来创建列表。 \n",
    "\n",
    "它的结构是在⼀个中括号⾥包含⼀个表达式，然后是⼀个for语句，然后是0个或多个for 或者if语句。\n",
    "\n",
    "那个表达式可以是任意的，意思是你可以在列表中放⼊任意类型的对象。\n",
    "\n",
    "返 回结果将是⼀个新的列表，在这个以if和for语句为上下⽂的表达式运⾏完成之后产⽣\n",
    "```python\n",
    "variable = [out_exp for out_exp in input_list if out_exp == 2]\n",
    "```"
   ]
  },
  {
   "cell_type": "code",
   "execution_count": 80,
   "metadata": {},
   "outputs": [
    {
     "data": {
      "text/plain": [
       "[0, 3, 6, 9, 12, 15, 18, 21, 24, 27]"
      ]
     },
     "execution_count": 80,
     "metadata": {},
     "output_type": "execute_result"
    }
   ],
   "source": [
    "[i for i in range(30) if i % 3 is 0]"
   ]
  },
  {
   "cell_type": "code",
   "execution_count": 81,
   "metadata": {},
   "outputs": [
    {
     "data": {
      "text/plain": [
       "[0, 1, 4, 9, 16, 25, 36, 49, 64, 81]"
      ]
     },
     "execution_count": 81,
     "metadata": {},
     "output_type": "execute_result"
    }
   ],
   "source": [
    "[x**2 for x in range(10)]"
   ]
  },
  {
   "cell_type": "code",
   "execution_count": 82,
   "metadata": {},
   "outputs": [
    {
     "data": {
      "text/plain": [
       "['0-11', '0-12', '1-11', '1-12']"
      ]
     },
     "execution_count": 82,
     "metadata": {},
     "output_type": "execute_result"
    }
   ],
   "source": [
    "['{}-{}'.format(x,y) for x in range(0,2) for y in range(11,13)]"
   ]
  },
  {
   "cell_type": "markdown",
   "metadata": {},
   "source": [
    "## 字典推导式（dict comprehensions）\n",
    "字典推导和列表推导的使⽤⽅法是类似的"
   ]
  },
  {
   "cell_type": "code",
   "execution_count": 83,
   "metadata": {},
   "outputs": [
    {
     "name": "stdout",
     "output_type": "stream",
     "text": [
      "{'a': 10, 'b': 34, 'A': 7, 'Z': 3}\n"
     ]
    }
   ],
   "source": [
    "mcase = {'a': 10, 'b': 34, 'A': 7, 'Z': 3}\n",
    "mcase_frequency = {\n",
    "    k.lower(): mcase.get(k.lower(), 0) + mcase.get(k.upper(), 0)\n",
    "    for k in mcase.keys()\n",
    "}\n",
    "print(mcase)"
   ]
  },
  {
   "cell_type": "code",
   "execution_count": 84,
   "metadata": {},
   "outputs": [
    {
     "name": "stdout",
     "output_type": "stream",
     "text": [
      "{'name': 'zhangsan', 'age': 22, 'phone': 110}\n"
     ]
    }
   ],
   "source": [
    "dict1 = {key:value for key,value in  [('name','zhangsan'),('age',22),('phone',110)]}\n",
    "print(dict1)"
   ]
  },
  {
   "cell_type": "code",
   "execution_count": 85,
   "metadata": {},
   "outputs": [
    {
     "name": "stdout",
     "output_type": "stream",
     "text": [
      "{'westos9': 91, 'westos13': 95, 'westos16': 91}\n"
     ]
    }
   ],
   "source": [
    "import random\n",
    "stuInfo = {'westos'+ str(i):random.randint(60,100) for i in range(20)}\n",
    "print({name:score for name,score in stuInfo.items() if score > 90})"
   ]
  },
  {
   "cell_type": "markdown",
   "metadata": {},
   "source": [
    "## 集合推导式（set comprehensions）\n",
    "它们跟列表推导式也是类似的。 唯⼀的区别在于它们使⽤⼤括号{}\n",
    "\n",
    "**注意：将列表转化为集合，在集合的每个元素上操作**"
   ]
  },
  {
   "cell_type": "code",
   "execution_count": 86,
   "metadata": {},
   "outputs": [
    {
     "name": "stdout",
     "output_type": "stream",
     "text": [
      "{1, 4}\n"
     ]
    }
   ],
   "source": [
    "squared = {x**2 for x in [1, 1, 2]}\n",
    "print(squared)"
   ]
  },
  {
   "cell_type": "markdown",
   "metadata": {},
   "source": [
    "## 生成器表达器\n",
    "\n",
    "⽣成器表达式和列表推导式的语法基本上是一样的. 只是把[]替换成()"
   ]
  },
  {
   "cell_type": "code",
   "execution_count": 87,
   "metadata": {},
   "outputs": [
    {
     "name": "stdout",
     "output_type": "stream",
     "text": [
      "[1, 1, 4, 9, 16, 16, 64]\n"
     ]
    }
   ],
   "source": [
    "a=(i**2 for i in [1,1,2,3,4,4,8])\n",
    "print(list(a))"
   ]
  },
  {
   "cell_type": "code",
   "execution_count": 88,
   "metadata": {},
   "outputs": [
    {
     "name": "stdout",
     "output_type": "stream",
     "text": [
      "{64, 1, 4, 9, 16}\n"
     ]
    }
   ],
   "source": [
    "a=(i**2 for i in [1,1,2,3,4,4,8])\n",
    "print(set(a))"
   ]
  },
  {
   "cell_type": "code",
   "execution_count": 89,
   "metadata": {},
   "outputs": [
    {
     "data": {
      "text/plain": [
       "{0: 11, 1: 22}"
      ]
     },
     "execution_count": 89,
     "metadata": {},
     "output_type": "execute_result"
    }
   ],
   "source": [
    "lst = [11,22,33,44]\n",
    "a=({i:lst[i] for i in range(len(lst)) if i < 2})\n",
    "a"
   ]
  },
  {
   "cell_type": "markdown",
   "metadata": {},
   "source": [
    "# 异常"
   ]
  },
  {
   "cell_type": "code",
   "execution_count": 90,
   "metadata": {},
   "outputs": [
    {
     "name": "stdout",
     "output_type": "stream",
     "text": [
      "An IOError occurred. No such file or directory\n"
     ]
    }
   ],
   "source": [
    "try:\n",
    "    file = open('test.txt', 'rb')\n",
    "except IOError as e:\n",
    "    print('An IOError occurred. {}'.format(e.args[-1]))"
   ]
  },
  {
   "cell_type": "markdown",
   "metadata": {},
   "source": [
    "## 多个异常处理"
   ]
  },
  {
   "cell_type": "markdown",
   "metadata": {},
   "source": [
    "### 所有可能发生的异常放到一个元组里"
   ]
  },
  {
   "cell_type": "code",
   "execution_count": 91,
   "metadata": {},
   "outputs": [
    {
     "name": "stdout",
     "output_type": "stream",
     "text": [
      "An error occurred. No such file or directory\n"
     ]
    }
   ],
   "source": [
    "try:\n",
    "    file = open('test.txt', 'rb')\n",
    "except (IOError, EOFError) as e:\n",
    "    print(\"An error occurred. {}\".format(e.args[-1]))"
   ]
  },
  {
   "cell_type": "markdown",
   "metadata": {},
   "source": [
    "### 对每个单独的异常在单独的except语句块中处理\n",
    "\n",
    "如果异常没有被第⼀个except语句块处理，那么它也许被下⼀个语句 块处理，或者根本不会被处理"
   ]
  },
  {
   "cell_type": "code",
   "execution_count": 92,
   "metadata": {
    "scrolled": true
   },
   "outputs": [
    {
     "name": "stdout",
     "output_type": "stream",
     "text": [
      "An error occurred.\n"
     ]
    },
    {
     "ename": "FileNotFoundError",
     "evalue": "[Errno 2] No such file or directory: 'test.txt'",
     "output_type": "error",
     "traceback": [
      "\u001b[0;31m---------------------------------------------------------------------------\u001b[0m",
      "\u001b[0;31mFileNotFoundError\u001b[0m                         Traceback (most recent call last)",
      "\u001b[0;32m<ipython-input-92-9f3c58970d73>\u001b[0m in \u001b[0;36m<module>\u001b[0;34m\u001b[0m\n\u001b[1;32m      6\u001b[0m \u001b[0;32mexcept\u001b[0m \u001b[0mIOError\u001b[0m \u001b[0;32mas\u001b[0m \u001b[0me\u001b[0m\u001b[0;34m:\u001b[0m\u001b[0;34m\u001b[0m\u001b[0;34m\u001b[0m\u001b[0m\n\u001b[1;32m      7\u001b[0m     \u001b[0mprint\u001b[0m\u001b[0;34m(\u001b[0m\u001b[0;34m\"An error occurred.\"\u001b[0m\u001b[0;34m)\u001b[0m\u001b[0;34m\u001b[0m\u001b[0;34m\u001b[0m\u001b[0m\n\u001b[0;32m----> 8\u001b[0;31m     \u001b[0;32mraise\u001b[0m \u001b[0me\u001b[0m\u001b[0;34m\u001b[0m\u001b[0;34m\u001b[0m\u001b[0m\n\u001b[0m",
      "\u001b[0;32m<ipython-input-92-9f3c58970d73>\u001b[0m in \u001b[0;36m<module>\u001b[0;34m\u001b[0m\n\u001b[1;32m      1\u001b[0m \u001b[0;32mtry\u001b[0m\u001b[0;34m:\u001b[0m\u001b[0;34m\u001b[0m\u001b[0;34m\u001b[0m\u001b[0m\n\u001b[0;32m----> 2\u001b[0;31m     \u001b[0mfile\u001b[0m \u001b[0;34m=\u001b[0m \u001b[0mopen\u001b[0m\u001b[0;34m(\u001b[0m\u001b[0;34m'test.txt'\u001b[0m\u001b[0;34m,\u001b[0m \u001b[0;34m'rb'\u001b[0m\u001b[0;34m)\u001b[0m\u001b[0;34m\u001b[0m\u001b[0;34m\u001b[0m\u001b[0m\n\u001b[0m\u001b[1;32m      3\u001b[0m \u001b[0;32mexcept\u001b[0m \u001b[0mEOFError\u001b[0m \u001b[0;32mas\u001b[0m \u001b[0me\u001b[0m\u001b[0;34m:\u001b[0m\u001b[0;34m\u001b[0m\u001b[0;34m\u001b[0m\u001b[0m\n\u001b[1;32m      4\u001b[0m     \u001b[0mprint\u001b[0m\u001b[0;34m(\u001b[0m\u001b[0;34m\"An EOF error occurred.\"\u001b[0m\u001b[0;34m)\u001b[0m\u001b[0;34m\u001b[0m\u001b[0;34m\u001b[0m\u001b[0m\n\u001b[1;32m      5\u001b[0m     \u001b[0;32mraise\u001b[0m \u001b[0me\u001b[0m\u001b[0;34m\u001b[0m\u001b[0;34m\u001b[0m\u001b[0m\n",
      "\u001b[0;31mFileNotFoundError\u001b[0m: [Errno 2] No such file or directory: 'test.txt'"
     ]
    }
   ],
   "source": [
    "try:\n",
    "    file = open('test.txt', 'rb')\n",
    "except EOFError as e:\n",
    "    print(\"An EOF error occurred.\")\n",
    "    raise e\n",
    "except IOError as e:\n",
    "    print(\"An error occurred.\")\n",
    "    raise e"
   ]
  },
  {
   "cell_type": "markdown",
   "metadata": {},
   "source": [
    "### 捕获所有异常"
   ]
  },
  {
   "cell_type": "code",
   "execution_count": 93,
   "metadata": {
    "scrolled": true
   },
   "outputs": [
    {
     "ename": "FileNotFoundError",
     "evalue": "[Errno 2] No such file or directory: 'test.txt'",
     "output_type": "error",
     "traceback": [
      "\u001b[0;31m---------------------------------------------------------------------------\u001b[0m",
      "\u001b[0;31mFileNotFoundError\u001b[0m                         Traceback (most recent call last)",
      "\u001b[0;32m<ipython-input-93-5bb88d76d9e5>\u001b[0m in \u001b[0;36m<module>\u001b[0;34m\u001b[0m\n\u001b[1;32m      1\u001b[0m \u001b[0;32mtry\u001b[0m\u001b[0;34m:\u001b[0m\u001b[0;34m\u001b[0m\u001b[0;34m\u001b[0m\u001b[0m\n\u001b[0;32m----> 2\u001b[0;31m     \u001b[0mfile\u001b[0m \u001b[0;34m=\u001b[0m \u001b[0mopen\u001b[0m\u001b[0;34m(\u001b[0m\u001b[0;34m'test.txt'\u001b[0m\u001b[0;34m,\u001b[0m \u001b[0;34m'rb'\u001b[0m\u001b[0;34m)\u001b[0m\u001b[0;34m\u001b[0m\u001b[0;34m\u001b[0m\u001b[0m\n\u001b[0m\u001b[1;32m      3\u001b[0m \u001b[0;32mexcept\u001b[0m \u001b[0mException\u001b[0m\u001b[0;34m:\u001b[0m\u001b[0;34m\u001b[0m\u001b[0;34m\u001b[0m\u001b[0m\n\u001b[1;32m      4\u001b[0m     \u001b[0;31m# 打印一些异常日志，如果你想要的话\u001b[0m\u001b[0;34m\u001b[0m\u001b[0;34m\u001b[0m\u001b[0;34m\u001b[0m\u001b[0m\n\u001b[1;32m      5\u001b[0m     \u001b[0;32mraise\u001b[0m\u001b[0;34m\u001b[0m\u001b[0;34m\u001b[0m\u001b[0m\n",
      "\u001b[0;31mFileNotFoundError\u001b[0m: [Errno 2] No such file or directory: 'test.txt'"
     ]
    }
   ],
   "source": [
    "try:\n",
    "    file = open('test.txt', 'rb')\n",
    "except Exception:\n",
    "    # 打印一些异常日志，如果你想要的话\n",
    "    raise"
   ]
  },
  {
   "cell_type": "markdown",
   "metadata": {},
   "source": [
    "## finally从句\n",
    "\n",
    "包裹到finally从 句中的代码不管异常是否触发都将会被执⾏。这可以被⽤来在脚本执⾏之后做清理⼯作"
   ]
  },
  {
   "cell_type": "code",
   "execution_count": 94,
   "metadata": {},
   "outputs": [
    {
     "name": "stdout",
     "output_type": "stream",
     "text": [
      "An IOError occurred. No such file or directory\n",
      "This would be printed whether or not an exception occurred!\n"
     ]
    }
   ],
   "source": [
    "try:\n",
    "    file = open('test.txt', 'rb')\n",
    "except IOError as e:\n",
    "    print('An IOError occurred. {}'.format(e.args[-1]))\n",
    "finally:\n",
    "    print(\"This would be printed whether or not an exception occurred!\")"
   ]
  },
  {
   "cell_type": "markdown",
   "metadata": {},
   "source": [
    "## try/else从句\n",
    "\n",
    "else从句只会在没有异常的情况下执⾏，⽽且它会在finally语句之前执⾏"
   ]
  },
  {
   "cell_type": "code",
   "execution_count": 95,
   "metadata": {},
   "outputs": [
    {
     "name": "stdout",
     "output_type": "stream",
     "text": [
      "I am sure no exception is going to occur!\n",
      "This would only run if no exception occurs. And an error here would NOT be caught.\n",
      "This would be printed in every case.\n"
     ]
    }
   ],
   "source": [
    "try:\n",
    "    print('I am sure no exception is going to occur!')\n",
    "except Exception:\n",
    "    print('exception')\n",
    "else:\n",
    "    # 这里的代码只会在try语句里没有触发异常时运行,\n",
    "    # 但是这里的异常将 *不会* 被捕获\n",
    "    print('This would only run if no exception occurs. And an error here '\n",
    "          'would NOT be caught.')\n",
    "finally:\n",
    "    print('This would be printed in every case.')"
   ]
  },
  {
   "cell_type": "markdown",
   "metadata": {},
   "source": [
    "# lambda表达式\n",
    "\n",
    "lambda表达式是⼀⾏函数。 \n",
    "\n",
    "它们在其他语⾔中也被称为匿名函数。如果你不想在程序中对⼀个函数使⽤两次，你也许 会想⽤lambda表达式，它们和普通的函数完全⼀样"
   ]
  },
  {
   "cell_type": "code",
   "execution_count": 96,
   "metadata": {},
   "outputs": [
    {
     "name": "stdout",
     "output_type": "stream",
     "text": [
      "8\n"
     ]
    }
   ],
   "source": [
    "add = lambda x, y: x + y\n",
    "print(add(3, 5))"
   ]
  },
  {
   "cell_type": "markdown",
   "metadata": {},
   "source": [
    "## 列表排序"
   ]
  },
  {
   "cell_type": "code",
   "execution_count": 97,
   "metadata": {},
   "outputs": [
    {
     "data": {
      "text/plain": [
       "[(13, -3), (4, 1), (1, 2), (9, 10)]"
      ]
     },
     "execution_count": 97,
     "metadata": {},
     "output_type": "execute_result"
    }
   ],
   "source": [
    "a = [(1, 2), (4, 1), (9, 10), (13, -3)]\n",
    "a.sort(key=lambda x: x[1])\n",
    "a"
   ]
  },
  {
   "cell_type": "markdown",
   "metadata": {},
   "source": [
    "## 列表并行排序"
   ]
  },
  {
   "cell_type": "code",
   "execution_count": 98,
   "metadata": {},
   "outputs": [
    {
     "name": "stdout",
     "output_type": "stream",
     "text": [
      "[1, 2, 3] [5, 8, 6]\n"
     ]
    }
   ],
   "source": [
    "data = zip([2,1,3], [8,5,6])\n",
    "data=sorted(data)\n",
    "list1, list2 = map(lambda t: list(t), zip(*data))\n",
    "print(list1,list2)"
   ]
  },
  {
   "cell_type": "code",
   "execution_count": 99,
   "metadata": {},
   "outputs": [
    {
     "name": "stdout",
     "output_type": "stream",
     "text": [
      "{'a': '1', 'b': '2', 'c': '3', 'd': '4'}\n"
     ]
    }
   ],
   "source": [
    "str1 = 'abcd'\n",
    "str2 = '1234'\n",
    "list_new = zip(str1, str2)\n",
    "print(dict(list_new))"
   ]
  },
  {
   "cell_type": "code",
   "execution_count": 100,
   "metadata": {
    "scrolled": true
   },
   "outputs": [
    {
     "data": {
      "text/plain": [
       "{1: 4, 2: 5, 3: 6}"
      ]
     },
     "execution_count": 100,
     "metadata": {},
     "output_type": "execute_result"
    }
   ],
   "source": [
    "a=[1,2,3]\n",
    "b=[4,5,6]\n",
    "zipped=zip(a,b)\n",
    "dict(zipped)"
   ]
  },
  {
   "cell_type": "code",
   "execution_count": 101,
   "metadata": {},
   "outputs": [
    {
     "data": {
      "text/plain": [
       "[(1, 2, 3, 4, 5, 6, 7), (21, 22, 23, 24, 25, 26, 27)]"
      ]
     },
     "execution_count": 101,
     "metadata": {},
     "output_type": "execute_result"
    }
   ],
   "source": [
    "list(zip(*zip(range(1, 8), range(21, 28))))"
   ]
  },
  {
   "cell_type": "markdown",
   "metadata": {},
   "source": [
    "# ⼀⾏式的Python命令\n",
    "[Powerful Python One-Liners](https://wiki.python.org/moin/Powerful%20Python%20One-Liners)"
   ]
  },
  {
   "cell_type": "markdown",
   "metadata": {},
   "source": [
    "## 简易Web Server\n",
    "\n",
    "过通过⽹络快速共享⽂件\n",
    "```python\n",
    "    # Python 2 \n",
    "    python -m SimpleHTTPServer \n",
    "    # Python 3 \n",
    "    python -m http.server\n",
    "```"
   ]
  },
  {
   "cell_type": "markdown",
   "metadata": {},
   "source": [
    "## 漂亮的打印\n",
    "\n",
    "```bash\n",
    "    #格式化json数据\n",
    "    python -m json.tool\n",
    "   cat file.json | python -m json.tool\n",
    "```"
   ]
  },
  {
   "cell_type": "code",
   "execution_count": 103,
   "metadata": {},
   "outputs": [
    {
     "name": "stdout",
     "output_type": "stream",
     "text": [
      "{'age': 'undefined', 'name': 'Yasoob', 'personality': 'awesome'}\n"
     ]
    }
   ],
   "source": [
    "from pprint import pprint \n",
    "my_dict = {'name': 'Yasoob', 'age': 'undefined', 'personality': 'awesome'}\n",
    "pprint(my_dict)"
   ]
  },
  {
   "cell_type": "code",
   "execution_count": 120,
   "metadata": {},
   "outputs": [
    {
     "name": "stdout",
     "output_type": "stream",
     "text": [
      "[('Byte', 1),\n",
      " ('KByte', 1024),\n",
      " ('MByte', 1048576),\n",
      " ('GByte', 1073741824),\n",
      " ('TByte', 1099511627776)]\n"
     ]
    }
   ],
   "source": [
    "import pprint;\n",
    "pprint.pprint(list(zip(('Byte', 'KByte', 'MByte', 'GByte', 'TByte'), (1 << 10*i for i in range(5)))))"
   ]
  },
  {
   "cell_type": "code",
   "execution_count": 122,
   "metadata": {},
   "outputs": [
    {
     "name": "stdout",
     "output_type": "stream",
     "text": [
      "1 Byte = 8 Bit = largest number: 255\n",
      "2 Byte = 16 Bit = largest number: 65535\n",
      "4 Byte = 32 Bit = largest number: 4294967295\n",
      "8 Byte = 64 Bit = largest number: 18446744073709551615\n",
      "16 Byte = 128 Bit = largest number: 340282366920938463463374607431768211455\n",
      "32 Byte = 256 Bit = largest number: 115792089237316195423570985008687907853269984665640564039457584007913129639935\n",
      "64 Byte = 512 Bit = largest number: 13407807929942597099574024998205846127479365820592393377723561443721764030073546976801874298166903427690031858186486050853753882811946569946433649006084095\n",
      "128 Byte = 1024 Bit = largest number: 179769313486231590772930519078902473361797697894230657273430081157732675805500963132708477322407536021120113879871393357658789768814416622492847430639474124377767893424865485276302219601246094119453082952085005768838150682342462881473913110540827237163350510684586298239947245938479716304835356329624224137215\n"
     ]
    }
   ],
   "source": [
    "print('\\n'.join(\"%i Byte = %i Bit = largest number: %i\" % (j, j*8, 256**j-1) for j in (1 << i for i in range(8))))"
   ]
  },
  {
   "cell_type": "markdown",
   "metadata": {},
   "source": [
    "## 脚本性能分析\n",
    "这可能在定位你的脚本中的性能瓶颈时，会非常奏效：\n",
    "```bash\n",
    "    python -m cProfile my_script.py \n",
    "    #备注：cProfile是⼀个⽐profile更快的实现，因为它是⽤c写的\n",
    "```"
   ]
  },
  {
   "cell_type": "markdown",
   "metadata": {},
   "source": [
    "## csv转json\n",
    "```bash\n",
    "python -c \"import csv,json;print(json.dumps(list(csv.reader(open('csv_file.csv')))))\"\n",
    "```"
   ]
  },
  {
   "cell_type": "markdown",
   "metadata": {},
   "source": [
    "## 列表辗平"
   ]
  },
  {
   "cell_type": "code",
   "execution_count": 118,
   "metadata": {},
   "outputs": [
    {
     "name": "stdout",
     "output_type": "stream",
     "text": [
      "[1, 2, 3, 4, 5, [7, 8], 6]\n",
      "[1, 2, 3, 4, 5, [7, 8], 6]\n"
     ]
    }
   ],
   "source": [
    "#只支持二维数据\n",
    "from itertools import chain\n",
    "a_list = [[1, 2], [3, 4], [5,[7,8], 6]]\n",
    "print(list(chain.from_iterable(a_list)))\n",
    "print(list(chain(*a_list)))"
   ]
  },
  {
   "cell_type": "markdown",
   "metadata": {},
   "source": [
    "## 一行式的构造器\n",
    "避免类初始化时大量重复的赋值语句"
   ]
  },
  {
   "cell_type": "code",
   "execution_count": 117,
   "metadata": {},
   "outputs": [
    {
     "data": {
      "text/plain": [
       "2"
      ]
     },
     "execution_count": 117,
     "metadata": {},
     "output_type": "execute_result"
    }
   ],
   "source": [
    "class A(object):\n",
    "    def __init__(self, a, b, c, d, e, f):\n",
    "        self.__dict__.update({k: v for k, v in locals().items() if k != 'self'})\n",
    "a=A(1,2,3,4,5,6)\n",
    "a.b"
   ]
  },
  {
   "cell_type": "markdown",
   "metadata": {},
   "source": [
    "# For - Else\n",
    "else从句会在循环正常结束 时执⾏。这意味着，循环没有遇到任何break"
   ]
  },
  {
   "cell_type": "code",
   "execution_count": 131,
   "metadata": {
    "scrolled": true
   },
   "outputs": [
    {
     "name": "stdout",
     "output_type": "stream",
     "text": [
      "2 is a prime number\n",
      "3 is a prime number\n",
      "5 is a prime number\n",
      "7 is a prime number\n",
      "11 is a prime number\n",
      "13 is a prime number\n",
      "17 is a prime number\n",
      "19 is a prime number\n",
      "23 is a prime number\n",
      "29 is a prime number\n",
      "31 is a prime number\n",
      "37 is a prime number\n"
     ]
    }
   ],
   "source": [
    "for n in range(2, 40):\n",
    "    for x in range(2, n):\n",
    "        if n % x == 0:\n",
    "#             print(n, 'equals', x, '*', n/x)\n",
    "            break\n",
    "    else:\n",
    "        # loop fell through without finding a factor\n",
    "        print(n, 'is a prime number')"
   ]
  },
  {
   "cell_type": "markdown",
   "metadata": {},
   "source": [
    "# open函数\n",
    "\n",
    "```open```的第一个参数是文件名。第二个(```mode``` 打开模式)决定了这个文件如何被打开。\n",
    "\n",
    "- 如果你想读取文件，传入```r```\n",
    "- 如果你想读取并写入文件，传入```r+```\n",
    "- 如果你想覆盖写入文件，传入```w```\n",
    "- 如果你想在文件末尾附加内容，传入```a```"
   ]
  },
  {
   "cell_type": "code",
   "execution_count": 137,
   "metadata": {},
   "outputs": [
    {
     "name": "stdout",
     "output_type": "stream",
     "text": [
      "This is a random file (2910 bytes long)\n",
      "\n"
     ]
    }
   ],
   "source": [
    "import io\n",
    "\n",
    "with open('logo.png', 'rb') as inf:\n",
    "    jpgdata = inf.read()\n",
    "\n",
    "if jpgdata.startswith(b'\\xff\\xd8'):\n",
    "    text = u'This is a JPEG file (%d bytes long)\\n'\n",
    "else:\n",
    "    text = u'This is a random file (%d bytes long)\\n'\n",
    "\n",
    "with io.open('summary.txt', 'w', encoding='utf-8') as outf:\n",
    "    outf.write(text % len(jpgdata))\n",
    "    \n",
    "with open('summary.txt','r',encoding='utf-8') as f:\n",
    "    for line in f:\n",
    "        print(line)"
   ]
  },
  {
   "cell_type": "markdown",
   "metadata": {},
   "source": [
    "# 兼容Python2+3\n",
    "\n",
    "[Porting Python 2 Code to Python 3](https://docs.python.org/3/howto/pyporting.html)\n",
    "\n",
    "## Future模块导⼊\n",
    "第⼀种也是最重要的⽅法，就是导⼊__future__模块。它可以帮你在Python2中导⼊ Python3的功能\n",
    "\n",
    "上下⽂管理器是Python2.6+引⼊的新特性，如果你想在Python2.5中使⽤它可以这样做： \n",
    "``` python\n",
    "from __future__ import with_statement\n",
    "from __future__ import absolute_import\n",
    "from __future__ import division\n",
    "from __future__ import print_function\n",
    "```\n",
    "\n",
    "在Python3中print已经变为⼀个函数。如果你想在Python2中使⽤它可以通过 __future__导⼊：\n",
    "```python\n",
    "from __future__ import print_function \n",
    "print(print)\n",
    "```\n",
    "\n",
    "## 模块重命名\n",
    "将模块导⼊代码包装在try/except语句中。这样做是因为在Python 2中并没 有urllib.request模块。这将引起⼀个ImportError异常。⽽在Python2中 urllib.request的功能则是由urllib2提供的。所以,当试图在Python2中导⼊urllib.request模块的时候，⼀旦捕获到ImportError将通过导 ⼊urllib2模块来代替它"
   ]
  },
  {
   "cell_type": "code",
   "execution_count": 138,
   "metadata": {},
   "outputs": [],
   "source": [
    "try:\n",
    "    import urllib.request as urllib_request # for Python 3 \n",
    "except ImportError:\n",
    "    import urllib2 as urllib_request # for Python 2"
   ]
  },
  {
   "cell_type": "markdown",
   "metadata": {},
   "source": [
    "## 过期的Python2内置功能\n",
    "\n",
    "是Python2中有12个内置功能在Python3中已经被移除了。要确保 在Python2代码中不要出现这些功能来保证对Python3的兼容。\n",
    "\n",
    "这有⼀个强制让你放弃12内 置功能的⽅法：\n",
    "\n",
    "```python\n",
    "from future.builtins.disabled import * \n",
    "apply()\n",
    "\n",
    "# Output: NameError: obsolete Python 2 builtin apply is disabled\n",
    "```"
   ]
  },
  {
   "cell_type": "markdown",
   "metadata": {},
   "source": [
    "# 协程\n",
    "\n",
    "## 简单输出斐波那契數列前 N 个数"
   ]
  },
  {
   "cell_type": "code",
   "execution_count": 142,
   "metadata": {},
   "outputs": [
    {
     "name": "stdout",
     "output_type": "stream",
     "text": [
      "1\n",
      "1\n",
      "2\n",
      "3\n",
      "5\n"
     ]
    }
   ],
   "source": [
    "def fab(max): \n",
    "    n, a, b = 0, 0, 1 \n",
    "    while n < max: \n",
    "        print(b) \n",
    "        a, b = b, a + b \n",
    "        n = n + 1\n",
    "fab(5)"
   ]
  },
  {
   "cell_type": "code",
   "execution_count": 144,
   "metadata": {},
   "outputs": [
    {
     "name": "stdout",
     "output_type": "stream",
     "text": [
      "1\n",
      "1\n",
      "2\n",
      "3\n",
      "5\n"
     ]
    }
   ],
   "source": [
    "class Fab(object): \n",
    "    def __init__(self, max): \n",
    "        self.max = max \n",
    "        self.n, self.a, self.b = 0, 0, 1 \n",
    "        \n",
    "    def __iter__(self): \n",
    "        return self \n",
    "    \n",
    "    def __next__(self): \n",
    "        if self.n < self.max: \n",
    "            r = self.b \n",
    "            self.a, self.b = self.b, self.a + self.b \n",
    "            self.n = self.n + 1 \n",
    "            return r \n",
    "        raise StopIteration()\n",
    "        \n",
    "for n in Fab(5):\n",
    "    print(n)"
   ]
  },
  {
   "cell_type": "code",
   "execution_count": 145,
   "metadata": {
    "scrolled": true
   },
   "outputs": [
    {
     "name": "stdout",
     "output_type": "stream",
     "text": [
      "1\n",
      "1\n",
      "2\n",
      "3\n",
      "5\n"
     ]
    }
   ],
   "source": [
    "def fab(max): \n",
    "    n, a, b = 0, 0, 1 \n",
    "    while n < max: \n",
    "        yield b \n",
    "        # print b \n",
    "        a, b = b, a + b \n",
    "        n = n + 1 \n",
    "for n in fab(5):\n",
    "    print(n)"
   ]
  },
  {
   "cell_type": "markdown",
   "metadata": {},
   "source": [
    "发送的值会被yield接收。\n",
    "\n",
    "为什么要运⾏next()⽅法呢？\n",
    "这样做正是为了启动⼀个 协程。就像协程中包含的⽣成器并不是⽴刻执⾏，⽽是通过next()⽅法来响应send()⽅法。\n",
    "因此，你必须通过next()⽅法来执⾏yield表达式。 \n",
    "\n",
    "可以通过调⽤close()⽅法来关闭⼀个协程"
   ]
  },
  {
   "cell_type": "code",
   "execution_count": 151,
   "metadata": {},
   "outputs": [
    {
     "name": "stdout",
     "output_type": "stream",
     "text": [
      "Searching for coroutine\n",
      "I love coroutine instead!\n",
      "I love coroutine too!\n"
     ]
    }
   ],
   "source": [
    "def grep(pattern):\n",
    "    print(\"Searching for\", pattern)\n",
    "    while True:\n",
    "        line = (yield)\n",
    "        if pattern in line:\n",
    "            print(line) \n",
    "            \n",
    "search = grep('coroutine')\n",
    "next(search)\n",
    "search.send(\"I love you\")\n",
    "search.send(\"Don't you love me?\")\n",
    "search.send(\"I love coroutine instead!\")\n",
    "search.send(\"I love tomorrow instead!\")\n",
    "search.send(\"I love coroutine too!\")\n",
    "search.close()"
   ]
  },
  {
   "cell_type": "markdown",
   "metadata": {},
   "source": [
    "# 函数缓存 (Function caching)\n",
    "\n",
    "函数缓存允许我们将⼀个函数对于给定参数的返回值缓存起来。\n",
    "\n",
    "当⼀个I/O密集的函数被频繁使⽤相同的参数调⽤的时候，函数缓存可以节约时间。 \n",
    "\n",
    "在Python 3.2版本以前我们只有写⼀个⾃定义的实现。在Python 3.2以后版本，有 个lru_cache的装饰器，允许我们将⼀个函数的返回值快速地缓存或取消缓存\n"
   ]
  },
  {
   "cell_type": "markdown",
   "metadata": {},
   "source": [
    "## 3.2版本后实现斐波那契计算器"
   ]
  },
  {
   "cell_type": "code",
   "execution_count": 156,
   "metadata": {},
   "outputs": [
    {
     "name": "stdout",
     "output_type": "stream",
     "text": [
      "[0, 1, 1, 2, 3, 5, 8, 13, 21, 34]\n"
     ]
    }
   ],
   "source": [
    "from functools import lru_cache \n",
    "@lru_cache(maxsize=32) \n",
    "def fib(n): \n",
    "    if n < 2: \n",
    "        return n \n",
    "    return fib(n-1) + fib(n-2)\n",
    "\n",
    "print([fib(n) for n in range(10)])"
   ]
  },
  {
   "cell_type": "markdown",
   "metadata": {},
   "source": [
    "maxsize参数是告诉lru_cache，最多缓存最近多少个返回值\n",
    "返回值清空缓存"
   ]
  },
  {
   "cell_type": "code",
   "execution_count": 157,
   "metadata": {},
   "outputs": [],
   "source": [
    "fib.cache_clear()"
   ]
  },
  {
   "cell_type": "markdown",
   "metadata": {},
   "source": [
    "## python 2系统版本实现斐波那契计算器"
   ]
  },
  {
   "cell_type": "code",
   "execution_count": 166,
   "metadata": {},
   "outputs": [
    {
     "data": {
      "text/plain": [
       "10946"
      ]
     },
     "execution_count": 166,
     "metadata": {},
     "output_type": "execute_result"
    }
   ],
   "source": [
    "from functools import wraps \n",
    "def memoize(function,maxsize=32): \n",
    "    memo = {} \n",
    "    @wraps(function) \n",
    "    def wrapper(*args): \n",
    "        if args in memo: \n",
    "            return memo[args] \n",
    "        else:\n",
    "            rv = function(*args) \n",
    "            memo[args] = rv \n",
    "            return rv \n",
    "    return wrapper\n",
    "\n",
    "@memoize \n",
    "def fibonacci(n,maxsize=32): \n",
    "    if n < 2: \n",
    "        return n \n",
    "    return fibonacci(n - 1) + fibonacci(n - 2) \n",
    "\n",
    "fibonacci(21)"
   ]
  },
  {
   "cell_type": "markdown",
   "metadata": {},
   "source": [
    "# 上下⽂管理器(Context managers)\n",
    "\n",
    "使⽤上下⽂管理器最⼴泛的案例就是with语句\n",
    "\n",
    "上下⽂管理器的⼀个常见⽤例，是资源的加锁和解锁，以及关闭已打开的⽂件"
   ]
  },
  {
   "cell_type": "code",
   "execution_count": 167,
   "metadata": {},
   "outputs": [],
   "source": [
    "with open('aa.txt', 'w') as opened_file:\n",
    "    opened_file.write('Hola!')\n",
    "    \n",
    "file = open('aa.txt', 'w')\n",
    "try:\n",
    "    file.write('Hola!')\n",
    "finally:\n",
    "    file.close()"
   ]
  },
  {
   "cell_type": "markdown",
   "metadata": {},
   "source": [
    "## 基于类的实现\n",
    "\n",
    "⼀个上下⽂管理器的类，最起码要定义```__enter__```和```__exit__```⽅法\n",
    "\n",
    "```__exit__```函数接受三个参数。这些参数对于每个上下文管理器类中的```__exit__```方法都是必须的。\n",
    "\n",
    "在底层都发生了什么。\n",
    "\n",
    "1. ```with```语句先暂存了```File```类的```__exit__```方法\n",
    "2. 然后它调用```File```类的```__enter__```方法\n",
    "3. ```__enter__```方法打开文件并返回给```with```语句\n",
    "4. 文件句柄被传递给```opened_file```参数\n",
    "5. 使用```.write()```来写文件\n",
    "6. ```with```语句调用之前暂存的```__exit__```方法\n",
    "7. ```__exit__```方法关闭了文件"
   ]
  },
  {
   "cell_type": "code",
   "execution_count": 171,
   "metadata": {},
   "outputs": [
    {
     "name": "stdout",
     "output_type": "stream",
     "text": [
      "init object\n",
      "enter operate object\n",
      "write content to file\n",
      "exit\n"
     ]
    }
   ],
   "source": [
    "class File(object):\n",
    "    def __init__(self, file_name, method):\n",
    "        print('init object')\n",
    "        self.file_obj = open(file_name, method)\n",
    "    def __enter__(self):\n",
    "        print('enter operate object')\n",
    "        return self.file_obj\n",
    "    def __exit__(self, type, value, traceback):\n",
    "        print('exit')\n",
    "        self.file_obj.close()\n",
    "        \n",
    "with File('aa.txt', 'w') as opened_file:\n",
    "    print('write content to file')\n",
    "    opened_file.write('Hola!')"
   ]
  },
  {
   "cell_type": "markdown",
   "metadata": {},
   "source": [
    "## 处理异常\n",
    "\n",
    "```__exit__```方法的这三个参数：```type```, ```value```和```traceback```。  \n",
    "在第3步和第6步之间，如果发生异常，Python会将异常的```type```,```value```和```traceback```传递给```__exit__```方法\n",
    "\n",
    "让```__exit__```方法来决定如何关闭文件以及是否需要其他步骤\n",
    "\n",
    "1. 它把异常的```type```,```value```和```traceback```传递给```__exit__```方法\n",
    "2. 它让```__exit__```方法来处理异常\n",
    "3. 如果```__exit__```返回的是True，那么这个异常就被优雅地处理了。\n",
    "4. 如果```__exit__```返回的是True以外的任何东西，那么这个异常将被```with```语句抛出"
   ]
  },
  {
   "cell_type": "code",
   "execution_count": 173,
   "metadata": {},
   "outputs": [],
   "source": [
    "class File(object):\n",
    "    def __init__(self, file_name, method):\n",
    "        print('init object')\n",
    "        self.file_obj = open(file_name, method)\n",
    "    def __enter__(self):\n",
    "        print('enter operate object')\n",
    "        return self.file_obj\n",
    "    def __exit__(self, type, value, traceback):\n",
    "        print('exit')\n",
    "        print(\"Exception has been handled\")\n",
    "        self.file_obj.close()\n",
    "        return True"
   ]
  },
  {
   "cell_type": "code",
   "execution_count": 174,
   "metadata": {},
   "outputs": [
    {
     "name": "stdout",
     "output_type": "stream",
     "text": [
      "init object\n",
      "enter operate object\n",
      "exit\n",
      "Exception has been handled\n"
     ]
    }
   ],
   "source": [
    "with File('demo.txt', 'w') as opened_file:\n",
    "    opened_file.undefined_function('Hola!')"
   ]
  },
  {
   "cell_type": "markdown",
   "metadata": {},
   "source": [
    "## 基于生成器的实现\n",
    "\n",
    "用装饰器(decorators)和生成器(generators)来实现上下文管理器。  \n",
    "Python有个```contextlib```模块专门用于这个目的。可以使用一个生成器函数来实现一个上下文管理器，而不是使用一个类\n",
    "\n",
    "1. Python解释器遇到了```yield```关键字。因为这个缘故它创建了一个生成器而不是一个普通的函数。\n",
    "2. 因为这个装饰器，```contextmanager```会被调用并传入函数名（```open_file```）作为参数。\n",
    "3. ```contextmanager```函数返回一个以```GeneratorContextManager```对象封装过的生成器。\n",
    "4. 这个```GeneratorContextManager```被赋值给```open_file```函数，实际上是在调用```GeneratorContextManager```对象。"
   ]
  },
  {
   "cell_type": "code",
   "execution_count": 175,
   "metadata": {},
   "outputs": [],
   "source": [
    "from contextlib import contextmanager \n",
    "@contextmanager \n",
    "def open_file(name): \n",
    "    f = open(name, 'w') \n",
    "    yield f \n",
    "    f.close()"
   ]
  },
  {
   "cell_type": "code",
   "execution_count": 180,
   "metadata": {},
   "outputs": [],
   "source": [
    "with open_file('some_file') as f:\n",
    "    f.write('hola!')"
   ]
  }
 ],
 "metadata": {
  "hide_input": false,
  "kernelspec": {
   "display_name": "Python 3",
   "language": "python",
   "name": "python3"
  },
  "language_info": {
   "codemirror_mode": {
    "name": "ipython",
    "version": 3
   },
   "file_extension": ".py",
   "mimetype": "text/x-python",
   "name": "python",
   "nbconvert_exporter": "python",
   "pygments_lexer": "ipython3",
   "version": "3.7.3"
  },
  "toc": {
   "base_numbering": 1,
   "nav_menu": {},
   "number_sections": true,
   "sideBar": true,
   "skip_h1_title": false,
   "title_cell": "Table of Contents",
   "title_sidebar": "Contents",
   "toc_cell": false,
   "toc_position": {},
   "toc_section_display": true,
   "toc_window_display": true
  },
  "varInspector": {
   "cols": {
    "lenName": 16,
    "lenType": 16,
    "lenVar": 40
   },
   "kernels_config": {
    "python": {
     "delete_cmd_postfix": "",
     "delete_cmd_prefix": "del ",
     "library": "var_list.py",
     "varRefreshCmd": "print(var_dic_list())"
    },
    "r": {
     "delete_cmd_postfix": ") ",
     "delete_cmd_prefix": "rm(",
     "library": "var_list.r",
     "varRefreshCmd": "cat(var_dic_list()) "
    }
   },
   "types_to_exclude": [
    "module",
    "function",
    "builtin_function_or_method",
    "instance",
    "_Feature"
   ],
   "window_display": false
  }
 },
 "nbformat": 4,
 "nbformat_minor": 2
}
