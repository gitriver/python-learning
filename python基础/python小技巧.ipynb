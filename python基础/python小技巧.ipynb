{
 "cells": [
  {
   "cell_type": "markdown",
   "metadata": {},
   "source": [
    "## Lambda函数"
   ]
  },
  {
   "cell_type": "code",
   "execution_count": 3,
   "metadata": {},
   "outputs": [
    {
     "name": "stdout",
     "output_type": "stream",
     "text": [
      "[1, 16, 49]\n",
      "[2, 20, 56]\n"
     ]
    }
   ],
   "source": [
    "def square_it_func(a):\n",
    "    return a * a\n",
    "\n",
    "x = map(square_it_func, [1, 4, 7])\n",
    "print(list(x)) \n",
    "\n",
    "def multiplier_func(a, b):\n",
    "    return a * b\n",
    "\n",
    "x = map(multiplier_func, [1, 4, 7], [2, 5, 8])\n",
    "print(list(x))"
   ]
  },
  {
   "cell_type": "markdown",
   "metadata": {},
   "source": [
    "## Itertools 模块\n",
    "### zip函数"
   ]
  },
  {
   "cell_type": "code",
   "execution_count": 9,
   "metadata": {},
   "outputs": [
    {
     "name": "stdout",
     "output_type": "stream",
     "text": [
      "(1, 'a')\n",
      "(2, 'b')\n",
      "(3, 'c')\n"
     ]
    }
   ],
   "source": [
    "from itertools import *\n",
    "\n",
    "# Easy joining of two lists into a list of tuples\n",
    "for i in zip([1, 2, 3], ['a', 'b', 'c']):\n",
    "    print(i)"
   ]
  },
  {
   "cell_type": "code",
   "execution_count": 10,
   "metadata": {},
   "outputs": [
    {
     "name": "stdout",
     "output_type": "stream",
     "text": [
      "(1, 3, 5)\n",
      "(2, 4, 6)\n",
      "(3, 5, 7)\n"
     ]
    }
   ],
   "source": [
    "a=[[1,2,3],[3,4,5],[5,6,7]]\n",
    "for i in zip(*a):\n",
    "    print(i)"
   ]
  },
  {
   "cell_type": "markdown",
   "metadata": {},
   "source": [
    "### count函数"
   ]
  },
  {
   "cell_type": "code",
   "execution_count": 28,
   "metadata": {},
   "outputs": [
    {
     "name": "stdout",
     "output_type": "stream",
     "text": [
      "11\n",
      "12\n",
      "13\n",
      "14\n",
      "15\n",
      "16\n",
      "17\n",
      "18\n",
      "19\n",
      "20\n"
     ]
    }
   ],
   "source": [
    "for i in count(11):\n",
    "    if i>20:\n",
    "        break\n",
    "    print(i)"
   ]
  },
  {
   "cell_type": "code",
   "execution_count": 11,
   "metadata": {},
   "outputs": [
    {
     "name": "stdout",
     "output_type": "stream",
     "text": [
      "(1, 'Bob')\n",
      "(2, 'Emily')\n",
      "(3, 'Joe')\n"
     ]
    }
   ],
   "source": [
    "# The count() function returns an interator that \n",
    "# produces consecutive integers, forever. This \n",
    "# one is great for adding indices next to your list \n",
    "# elements for readability and convenience\n",
    "for i in zip(count(1), ['Bob', 'Emily', 'Joe']):\n",
    "    print (i)"
   ]
  },
  {
   "cell_type": "markdown",
   "metadata": {},
   "source": [
    "### dropwhile函数"
   ]
  },
  {
   "cell_type": "code",
   "execution_count": 30,
   "metadata": {},
   "outputs": [
    {
     "name": "stdout",
     "output_type": "stream",
     "text": [
      "Checking:  2\n",
      "Checking:  4\n",
      "Checking:  6\n",
      "Result:  6\n",
      "Result:  8\n",
      "Result:  10\n",
      "Result:  12\n",
      "lambda result:  10\n",
      "lambda result:  12\n"
     ]
    }
   ],
   "source": [
    "# The dropwhile() function returns an iterator that returns \n",
    "# all the elements of the input which come after a certain \n",
    "# condition becomes false for the first time. \n",
    "def shoud_drop(x):\n",
    "    print('Checking: ', x)\n",
    "    return x < 5\n",
    "\n",
    "for i in dropwhile(shoud_drop, [2, 4, 6, 8, 10, 12]):\n",
    "    print ('Result: ', i)\n",
    "    \n",
    "for i in dropwhile(lambda x:x<10, [2, 4, 6, 8, 10, 12]):\n",
    "    print ('lambda result: ', i)  "
   ]
  },
  {
   "cell_type": "markdown",
   "metadata": {},
   "source": [
    "### groupby函数\n",
    "<font color=red>使用前一定需要使用sorted函数</font>"
   ]
  },
  {
   "cell_type": "code",
   "execution_count": 33,
   "metadata": {},
   "outputs": [
    {
     "name": "stdout",
     "output_type": "stream",
     "text": [
      "1 [1, 1, 1]\n",
      "2 [2, 2, 2]\n",
      "3 [3, 3]\n",
      "4 [4]\n",
      "5 [5, 5, 5]\n"
     ]
    }
   ],
   "source": [
    "# The groupby() function is great for retrieving bunches\n",
    "# of iterator elements which are the same or have similar \n",
    "# properties\n",
    "\n",
    "a = sorted([1, 2, 1, 3, 2, 1,5,5, 2, 3, 4, 5])\n",
    "for key, value in groupby(a):\n",
    "    print(key, list(value), end='\\n')"
   ]
  }
 ],
 "metadata": {
  "hide_input": false,
  "kernelspec": {
   "display_name": "Python 3",
   "language": "python",
   "name": "python3"
  },
  "language_info": {
   "codemirror_mode": {
    "name": "ipython",
    "version": 3
   },
   "file_extension": ".py",
   "mimetype": "text/x-python",
   "name": "python",
   "nbconvert_exporter": "python",
   "pygments_lexer": "ipython3",
   "version": "3.7.3"
  },
  "toc": {
   "base_numbering": 1,
   "nav_menu": {},
   "number_sections": true,
   "sideBar": true,
   "skip_h1_title": false,
   "title_cell": "Table of Contents",
   "title_sidebar": "Contents",
   "toc_cell": false,
   "toc_position": {},
   "toc_section_display": true,
   "toc_window_display": true
  },
  "varInspector": {
   "cols": {
    "lenName": 16,
    "lenType": 16,
    "lenVar": 40
   },
   "kernels_config": {
    "python": {
     "delete_cmd_postfix": "",
     "delete_cmd_prefix": "del ",
     "library": "var_list.py",
     "varRefreshCmd": "print(var_dic_list())"
    },
    "r": {
     "delete_cmd_postfix": ") ",
     "delete_cmd_prefix": "rm(",
     "library": "var_list.r",
     "varRefreshCmd": "cat(var_dic_list()) "
    }
   },
   "types_to_exclude": [
    "module",
    "function",
    "builtin_function_or_method",
    "instance",
    "_Feature"
   ],
   "window_display": false
  }
 },
 "nbformat": 4,
 "nbformat_minor": 2
}
